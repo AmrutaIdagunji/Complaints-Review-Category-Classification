{
 "cells": [
  {
   "cell_type": "markdown",
   "id": "040a6f6d",
   "metadata": {
    "id": "040a6f6d"
   },
   "source": [
    "# Import Libraries"
   ]
  },
  {
   "cell_type": "code",
   "execution_count": 1,
   "id": "hIdIXmEIRptV",
   "metadata": {
    "colab": {
     "base_uri": "https://localhost:8080/"
    },
    "id": "hIdIXmEIRptV",
    "outputId": "4d9ff93b-ccd1-4995-a357-86d1f621783a"
   },
   "outputs": [],
   "source": [
    "#!pip install transformers==4.6.1\n",
    "#!pip install transformers-interpret\n"
   ]
  },
  {
   "cell_type": "code",
   "execution_count": 2,
   "id": "d41154d5",
   "metadata": {
    "id": "d41154d5"
   },
   "outputs": [],
   "source": [
    "import pandas as pd\n",
    "import numpy as np\n",
    "\n",
    "import numpy as np\n",
    "import pandas as pd\n",
    "import random,os\n",
    "import sklearn\n",
    "from sklearn.model_selection import train_test_split\n",
    "import seaborn as sns\n",
    "import matplotlib.pyplot as plt\n",
    "import tqdm\n",
    "from tqdm import tqdm\n",
    "from sklearn import metrics\n",
    "import re\n",
    "import math\n",
    "\n",
    "import torch\n",
    "import torch.nn as nn\n",
    "from torch.utils.data import Dataset, DataLoader\n",
    "\n",
    "from torch.optim.lr_scheduler import *\n",
    "import transformers\n",
    "from transformers import AutoTokenizer, AutoModel, RobertaModel, RobertaTokenizer, AutoModelForSequenceClassification\n",
    "from transformers_interpret import SequenceClassificationExplainer\n"
   ]
  },
  {
   "cell_type": "markdown",
   "id": "dcdd7e0e",
   "metadata": {
    "id": "dcdd7e0e"
   },
   "source": [
    "# Improt Dataset"
   ]
  },
  {
   "cell_type": "code",
   "execution_count": 3,
   "id": "d6c217f7",
   "metadata": {
    "id": "d6c217f7"
   },
   "outputs": [],
   "source": [
    "fmfDataset = pd.read_excel(\"data_set2.xlsx\")"
   ]
  },
  {
   "cell_type": "markdown",
   "id": "d1fc71a2",
   "metadata": {
    "id": "d1fc71a2"
   },
   "source": [
    "# Clean the data"
   ]
  },
  {
   "cell_type": "code",
   "execution_count": 4,
   "id": "89852a07",
   "metadata": {
    "colab": {
     "base_uri": "https://localhost:8080/"
    },
    "id": "89852a07",
    "outputId": "cdbc9a7d-4f57-4cc2-cdd7-bd6d7d9ab36c"
   },
   "outputs": [
    {
     "data": {
      "text/plain": [
       "5630"
      ]
     },
     "execution_count": 4,
     "metadata": {},
     "output_type": "execute_result"
    }
   ],
   "source": [
    "df = fmfDataset[[\"Parsed Event Description\", \"Broad Category 1\"]]\n",
    "len(df)"
   ]
  },
  {
   "cell_type": "code",
   "execution_count": 5,
   "id": "2b727176",
   "metadata": {
    "colab": {
     "base_uri": "https://localhost:8080/"
    },
    "id": "2b727176",
    "outputId": "2abc77ae-8811-4044-9e9e-c4b26e88c2ff"
   },
   "outputs": [
    {
     "data": {
      "text/plain": [
       "5630"
      ]
     },
     "execution_count": 5,
     "metadata": {},
     "output_type": "execute_result"
    }
   ],
   "source": [
    "df = df.dropna()\n",
    "len(df)"
   ]
  },
  {
   "cell_type": "code",
   "execution_count": 6,
   "id": "6e90e132",
   "metadata": {
    "colab": {
     "base_uri": "https://localhost:8080/"
    },
    "id": "6e90e132",
    "outputId": "60d0b263-1d54-499d-d08a-01890977e889"
   },
   "outputs": [
    {
     "data": {
      "text/plain": [
       "5236"
      ]
     },
     "execution_count": 6,
     "metadata": {},
     "output_type": "execute_result"
    }
   ],
   "source": [
    "# dropping ALL duplicate values\n",
    "df.drop_duplicates(subset =\"Parsed Event Description\", keep = False, inplace = True)\n",
    "len(df)"
   ]
  },
  {
   "cell_type": "code",
   "execution_count": 7,
   "id": "ca840923",
   "metadata": {
    "colab": {
     "base_uri": "https://localhost:8080/"
    },
    "id": "ca840923",
    "outputId": "f097aa84-d1bf-4000-92f4-7c3befc0c184"
   },
   "outputs": [
    {
     "name": "stdout",
     "output_type": "stream",
     "text": [
      "There are 1 GPU(s) available.\n",
      "We will use the GPU: Tesla T4\n",
      "device set to => cuda\n"
     ]
    }
   ],
   "source": [
    "if torch.cuda.is_available():     \n",
    "    device = torch.device(\"cuda\")\n",
    "    print('There are %d GPU(s) available.' % torch.cuda.device_count())\n",
    "    print('We will use the GPU:', torch.cuda.get_device_name(0))\n",
    "else:\n",
    "    print('No GPU available, using the CPU instead.')\n",
    "    device = torch.device(\"cpu\")\n",
    "print( 'device set to =>', device)"
   ]
  },
  {
   "cell_type": "code",
   "execution_count": 8,
   "id": "5hzlAzQ_QncU",
   "metadata": {
    "id": "5hzlAzQ_QncU"
   },
   "outputs": [],
   "source": [
    "def remove(sentences):\n",
    "    sentences = re.sub('[^., A-Za-z0-9]+', '', sentences)\n",
    "    sentences = \".\".join([\" \".join(sentance.split(\" \")[4:]) if \"IT WAS REPORTED\" in sentance or \"IT IS REPORT\" in sentance or \"CUSTOMER REPORT\" in sentance else sentance for sentance in sentences.split(\".\")])\n",
    "\n",
    "    last_sentence = sentences.split(\".\")[-1] \n",
    "    if \"INJURY OR MEDICAL INTERVENTION\" in last_sentence:\n",
    "        sentences = \"\".join(sentences.split(\".\")[:-1])\n",
    "\n",
    "    return sentences"
   ]
  },
  {
   "cell_type": "code",
   "execution_count": 9,
   "id": "cIKkxqdUQoa1",
   "metadata": {
    "id": "cIKkxqdUQoa1"
   },
   "outputs": [],
   "source": [
    "df[\"cleaned text\"] = df[\"Parsed Event Description\"].apply(remove)"
   ]
  },
  {
   "cell_type": "code",
   "execution_count": 10,
   "id": "9e352c48",
   "metadata": {
    "id": "9e352c48"
   },
   "outputs": [],
   "source": [
    "class Config:    \n",
    "    max_len = 128\n",
    "    output_dim = 768\n",
    "    classes = 6\n",
    "    batch_size = 8\n",
    "    epochs = 10\n",
    "    lr = 0.00001 #0.00020892962347716094\n",
    "    take_mean = True \n",
    "    return_index = 0\n",
    "    text_column = \"cleaned text\"\n",
    "    label_column = \"label\""
   ]
  },
  {
   "cell_type": "code",
   "execution_count": 11,
   "id": "f7ac1011",
   "metadata": {
    "colab": {
     "base_uri": "https://localhost:8080/"
    },
    "id": "f7ac1011",
    "outputId": "902bc431-9ade-47e8-8f14-81fd3d710bc5"
   },
   "outputs": [
    {
     "data": {
      "text/plain": [
       "array(['Components - missing/not working/detached',\n",
       "       'Contamination - Syringe/needle', 'Components - Damage / breakage',\n",
       "       'Labelling  - Incorrect/missing label/markings',\n",
       "       'Safety feature - Failed/needlestick injury',\n",
       "       'Packaging - Contaminated/damaged'], dtype=object)"
      ]
     },
     "execution_count": 11,
     "metadata": {},
     "output_type": "execute_result"
    }
   ],
   "source": [
    "df[\"Broad Category 1\"].unique()"
   ]
  },
  {
   "cell_type": "code",
   "execution_count": 12,
   "id": "bc37b339",
   "metadata": {
    "id": "bc37b339"
   },
   "outputs": [],
   "source": [
    "score_map = dict(zip(range(6), ['Components - missing/not working/detached', 'Components - Damage / breakage', 'Contamination - Syringe/needle', 'Labelling  - Incorrect/missing label/markings', 'Safety feature - Failed/needlestick injury', 'Packaging - Contaminated/damaged']))\n",
    "inverse_score_map = dict(zip(['Components - missing/not working/detached', 'Components - Damage / breakage', 'Contamination - Syringe/needle', 'Labelling  - Incorrect/missing label/markings', 'Safety feature - Failed/needlestick injury', 'Packaging - Contaminated/damaged'], range(6)))\n"
   ]
  },
  {
   "cell_type": "code",
   "execution_count": 13,
   "id": "8825666e",
   "metadata": {
    "colab": {
     "base_uri": "https://localhost:8080/",
     "height": 206
    },
    "id": "8825666e",
    "outputId": "b909f8b6-709b-419d-cc5c-072021ba98ba"
   },
   "outputs": [
    {
     "data": {
      "text/html": [
       "\n",
       "  <div id=\"df-152ff4b4-8454-4187-b4b6-f3cc8072683f\">\n",
       "    <div class=\"colab-df-container\">\n",
       "      <div>\n",
       "<style scoped>\n",
       "    .dataframe tbody tr th:only-of-type {\n",
       "        vertical-align: middle;\n",
       "    }\n",
       "\n",
       "    .dataframe tbody tr th {\n",
       "        vertical-align: top;\n",
       "    }\n",
       "\n",
       "    .dataframe thead th {\n",
       "        text-align: right;\n",
       "    }\n",
       "</style>\n",
       "<table border=\"1\" class=\"dataframe\">\n",
       "  <thead>\n",
       "    <tr style=\"text-align: right;\">\n",
       "      <th></th>\n",
       "      <th>Parsed Event Description</th>\n",
       "      <th>Broad Category 1</th>\n",
       "      <th>cleaned text</th>\n",
       "      <th>label</th>\n",
       "    </tr>\n",
       "  </thead>\n",
       "  <tbody>\n",
       "    <tr>\n",
       "      <th>0</th>\n",
       "      <td>IT WAS REPORTED IN 10 BD¿ SYRINGES WITH NEEDLE...</td>\n",
       "      <td>Components - missing/not working/detached</td>\n",
       "      <td>10 BD SYRINGES WITH NEEDLES LUER SLIP SYRINGES...</td>\n",
       "      <td>0</td>\n",
       "    </tr>\n",
       "    <tr>\n",
       "      <th>1</th>\n",
       "      <td>ON (B)(6) 2016 I HAD AN INJECTION INTO MY LEFT...</td>\n",
       "      <td>Contamination - Syringe/needle</td>\n",
       "      <td>ON B6 2016 I HAD AN INJECTION INTO MY LEFT EYE...</td>\n",
       "      <td>2</td>\n",
       "    </tr>\n",
       "    <tr>\n",
       "      <th>10</th>\n",
       "      <td>CUSTOMER REPORTED THE FOLLOWING PROBLEM: \"I HA...</td>\n",
       "      <td>Components - missing/not working/detached</td>\n",
       "      <td>PROBLEM I HAVE ORDERED THIS PRODUCT MANY TIMES...</td>\n",
       "      <td>0</td>\n",
       "    </tr>\n",
       "    <tr>\n",
       "      <th>11</th>\n",
       "      <td>(B)(4). THIS DEVICE CASE, WHICH DOES NOT INVOL...</td>\n",
       "      <td>Components - Damage / breakage</td>\n",
       "      <td>B4. THIS DEVICE CASE, WHICH DOES NOT INVOLVE A...</td>\n",
       "      <td>1</td>\n",
       "    </tr>\n",
       "    <tr>\n",
       "      <th>12</th>\n",
       "      <td>(B)(4). THIS DEVICE CASE, WHICH DOES NOT INVOL...</td>\n",
       "      <td>Components - Damage / breakage</td>\n",
       "      <td>B4. THIS DEVICE CASE, WHICH DOES NOT INVOLVE A...</td>\n",
       "      <td>1</td>\n",
       "    </tr>\n",
       "  </tbody>\n",
       "</table>\n",
       "</div>\n",
       "      <button class=\"colab-df-convert\" onclick=\"convertToInteractive('df-152ff4b4-8454-4187-b4b6-f3cc8072683f')\"\n",
       "              title=\"Convert this dataframe to an interactive table.\"\n",
       "              style=\"display:none;\">\n",
       "        \n",
       "  <svg xmlns=\"http://www.w3.org/2000/svg\" height=\"24px\"viewBox=\"0 0 24 24\"\n",
       "       width=\"24px\">\n",
       "    <path d=\"M0 0h24v24H0V0z\" fill=\"none\"/>\n",
       "    <path d=\"M18.56 5.44l.94 2.06.94-2.06 2.06-.94-2.06-.94-.94-2.06-.94 2.06-2.06.94zm-11 1L8.5 8.5l.94-2.06 2.06-.94-2.06-.94L8.5 2.5l-.94 2.06-2.06.94zm10 10l.94 2.06.94-2.06 2.06-.94-2.06-.94-.94-2.06-.94 2.06-2.06.94z\"/><path d=\"M17.41 7.96l-1.37-1.37c-.4-.4-.92-.59-1.43-.59-.52 0-1.04.2-1.43.59L10.3 9.45l-7.72 7.72c-.78.78-.78 2.05 0 2.83L4 21.41c.39.39.9.59 1.41.59.51 0 1.02-.2 1.41-.59l7.78-7.78 2.81-2.81c.8-.78.8-2.07 0-2.86zM5.41 20L4 18.59l7.72-7.72 1.47 1.35L5.41 20z\"/>\n",
       "  </svg>\n",
       "      </button>\n",
       "      \n",
       "  <style>\n",
       "    .colab-df-container {\n",
       "      display:flex;\n",
       "      flex-wrap:wrap;\n",
       "      gap: 12px;\n",
       "    }\n",
       "\n",
       "    .colab-df-convert {\n",
       "      background-color: #E8F0FE;\n",
       "      border: none;\n",
       "      border-radius: 50%;\n",
       "      cursor: pointer;\n",
       "      display: none;\n",
       "      fill: #1967D2;\n",
       "      height: 32px;\n",
       "      padding: 0 0 0 0;\n",
       "      width: 32px;\n",
       "    }\n",
       "\n",
       "    .colab-df-convert:hover {\n",
       "      background-color: #E2EBFA;\n",
       "      box-shadow: 0px 1px 2px rgba(60, 64, 67, 0.3), 0px 1px 3px 1px rgba(60, 64, 67, 0.15);\n",
       "      fill: #174EA6;\n",
       "    }\n",
       "\n",
       "    [theme=dark] .colab-df-convert {\n",
       "      background-color: #3B4455;\n",
       "      fill: #D2E3FC;\n",
       "    }\n",
       "\n",
       "    [theme=dark] .colab-df-convert:hover {\n",
       "      background-color: #434B5C;\n",
       "      box-shadow: 0px 1px 3px 1px rgba(0, 0, 0, 0.15);\n",
       "      filter: drop-shadow(0px 1px 2px rgba(0, 0, 0, 0.3));\n",
       "      fill: #FFFFFF;\n",
       "    }\n",
       "  </style>\n",
       "\n",
       "      <script>\n",
       "        const buttonEl =\n",
       "          document.querySelector('#df-152ff4b4-8454-4187-b4b6-f3cc8072683f button.colab-df-convert');\n",
       "        buttonEl.style.display =\n",
       "          google.colab.kernel.accessAllowed ? 'block' : 'none';\n",
       "\n",
       "        async function convertToInteractive(key) {\n",
       "          const element = document.querySelector('#df-152ff4b4-8454-4187-b4b6-f3cc8072683f');\n",
       "          const dataTable =\n",
       "            await google.colab.kernel.invokeFunction('convertToInteractive',\n",
       "                                                     [key], {});\n",
       "          if (!dataTable) return;\n",
       "\n",
       "          const docLinkHtml = 'Like what you see? Visit the ' +\n",
       "            '<a target=\"_blank\" href=https://colab.research.google.com/notebooks/data_table.ipynb>data table notebook</a>'\n",
       "            + ' to learn more about interactive tables.';\n",
       "          element.innerHTML = '';\n",
       "          dataTable['output_type'] = 'display_data';\n",
       "          await google.colab.output.renderOutput(dataTable, element);\n",
       "          const docLink = document.createElement('div');\n",
       "          docLink.innerHTML = docLinkHtml;\n",
       "          element.appendChild(docLink);\n",
       "        }\n",
       "      </script>\n",
       "    </div>\n",
       "  </div>\n",
       "  "
      ],
      "text/plain": [
       "                             Parsed Event Description  \\\n",
       "0   IT WAS REPORTED IN 10 BD¿ SYRINGES WITH NEEDLE...   \n",
       "1   ON (B)(6) 2016 I HAD AN INJECTION INTO MY LEFT...   \n",
       "10  CUSTOMER REPORTED THE FOLLOWING PROBLEM: \"I HA...   \n",
       "11  (B)(4). THIS DEVICE CASE, WHICH DOES NOT INVOL...   \n",
       "12  (B)(4). THIS DEVICE CASE, WHICH DOES NOT INVOL...   \n",
       "\n",
       "                             Broad Category 1  \\\n",
       "0   Components - missing/not working/detached   \n",
       "1              Contamination - Syringe/needle   \n",
       "10  Components - missing/not working/detached   \n",
       "11             Components - Damage / breakage   \n",
       "12             Components - Damage / breakage   \n",
       "\n",
       "                                         cleaned text  label  \n",
       "0   10 BD SYRINGES WITH NEEDLES LUER SLIP SYRINGES...      0  \n",
       "1   ON B6 2016 I HAD AN INJECTION INTO MY LEFT EYE...      2  \n",
       "10  PROBLEM I HAVE ORDERED THIS PRODUCT MANY TIMES...      0  \n",
       "11  B4. THIS DEVICE CASE, WHICH DOES NOT INVOLVE A...      1  \n",
       "12  B4. THIS DEVICE CASE, WHICH DOES NOT INVOLVE A...      1  "
      ]
     },
     "execution_count": 13,
     "metadata": {},
     "output_type": "execute_result"
    }
   ],
   "source": [
    "df[\"label\"] = df['Broad Category 1'].map(inverse_score_map)\n",
    "df.head()\n"
   ]
  },
  {
   "cell_type": "code",
   "execution_count": 14,
   "id": "1KDpTumJbZKT",
   "metadata": {
    "colab": {
     "base_uri": "https://localhost:8080/",
     "height": 206
    },
    "id": "1KDpTumJbZKT",
    "outputId": "6fd99b19-0df7-4837-f06d-da3baa7af7d0"
   },
   "outputs": [
    {
     "data": {
      "text/html": [
       "\n",
       "  <div id=\"df-9c7dfee6-190d-46ba-b3ce-d226cbc46a8f\">\n",
       "    <div class=\"colab-df-container\">\n",
       "      <div>\n",
       "<style scoped>\n",
       "    .dataframe tbody tr th:only-of-type {\n",
       "        vertical-align: middle;\n",
       "    }\n",
       "\n",
       "    .dataframe tbody tr th {\n",
       "        vertical-align: top;\n",
       "    }\n",
       "\n",
       "    .dataframe thead th {\n",
       "        text-align: right;\n",
       "    }\n",
       "</style>\n",
       "<table border=\"1\" class=\"dataframe\">\n",
       "  <thead>\n",
       "    <tr style=\"text-align: right;\">\n",
       "      <th></th>\n",
       "      <th>Parsed Event Description</th>\n",
       "      <th>Broad Category 1</th>\n",
       "      <th>cleaned text</th>\n",
       "      <th>label</th>\n",
       "      <th>rev_label</th>\n",
       "    </tr>\n",
       "  </thead>\n",
       "  <tbody>\n",
       "    <tr>\n",
       "      <th>0</th>\n",
       "      <td>IT WAS REPORTED IN 10 BD¿ SYRINGES WITH NEEDLE...</td>\n",
       "      <td>Components - missing/not working/detached</td>\n",
       "      <td>10 BD SYRINGES WITH NEEDLES LUER SLIP SYRINGES...</td>\n",
       "      <td>0</td>\n",
       "      <td>Components - missing/not working/detached</td>\n",
       "    </tr>\n",
       "    <tr>\n",
       "      <th>1</th>\n",
       "      <td>ON (B)(6) 2016 I HAD AN INJECTION INTO MY LEFT...</td>\n",
       "      <td>Contamination - Syringe/needle</td>\n",
       "      <td>ON B6 2016 I HAD AN INJECTION INTO MY LEFT EYE...</td>\n",
       "      <td>2</td>\n",
       "      <td>Contamination - Syringe/needle</td>\n",
       "    </tr>\n",
       "    <tr>\n",
       "      <th>10</th>\n",
       "      <td>CUSTOMER REPORTED THE FOLLOWING PROBLEM: \"I HA...</td>\n",
       "      <td>Components - missing/not working/detached</td>\n",
       "      <td>PROBLEM I HAVE ORDERED THIS PRODUCT MANY TIMES...</td>\n",
       "      <td>0</td>\n",
       "      <td>Components - missing/not working/detached</td>\n",
       "    </tr>\n",
       "    <tr>\n",
       "      <th>11</th>\n",
       "      <td>(B)(4). THIS DEVICE CASE, WHICH DOES NOT INVOL...</td>\n",
       "      <td>Components - Damage / breakage</td>\n",
       "      <td>B4. THIS DEVICE CASE, WHICH DOES NOT INVOLVE A...</td>\n",
       "      <td>1</td>\n",
       "      <td>Components - Damage / breakage</td>\n",
       "    </tr>\n",
       "    <tr>\n",
       "      <th>12</th>\n",
       "      <td>(B)(4). THIS DEVICE CASE, WHICH DOES NOT INVOL...</td>\n",
       "      <td>Components - Damage / breakage</td>\n",
       "      <td>B4. THIS DEVICE CASE, WHICH DOES NOT INVOLVE A...</td>\n",
       "      <td>1</td>\n",
       "      <td>Components - Damage / breakage</td>\n",
       "    </tr>\n",
       "  </tbody>\n",
       "</table>\n",
       "</div>\n",
       "      <button class=\"colab-df-convert\" onclick=\"convertToInteractive('df-9c7dfee6-190d-46ba-b3ce-d226cbc46a8f')\"\n",
       "              title=\"Convert this dataframe to an interactive table.\"\n",
       "              style=\"display:none;\">\n",
       "        \n",
       "  <svg xmlns=\"http://www.w3.org/2000/svg\" height=\"24px\"viewBox=\"0 0 24 24\"\n",
       "       width=\"24px\">\n",
       "    <path d=\"M0 0h24v24H0V0z\" fill=\"none\"/>\n",
       "    <path d=\"M18.56 5.44l.94 2.06.94-2.06 2.06-.94-2.06-.94-.94-2.06-.94 2.06-2.06.94zm-11 1L8.5 8.5l.94-2.06 2.06-.94-2.06-.94L8.5 2.5l-.94 2.06-2.06.94zm10 10l.94 2.06.94-2.06 2.06-.94-2.06-.94-.94-2.06-.94 2.06-2.06.94z\"/><path d=\"M17.41 7.96l-1.37-1.37c-.4-.4-.92-.59-1.43-.59-.52 0-1.04.2-1.43.59L10.3 9.45l-7.72 7.72c-.78.78-.78 2.05 0 2.83L4 21.41c.39.39.9.59 1.41.59.51 0 1.02-.2 1.41-.59l7.78-7.78 2.81-2.81c.8-.78.8-2.07 0-2.86zM5.41 20L4 18.59l7.72-7.72 1.47 1.35L5.41 20z\"/>\n",
       "  </svg>\n",
       "      </button>\n",
       "      \n",
       "  <style>\n",
       "    .colab-df-container {\n",
       "      display:flex;\n",
       "      flex-wrap:wrap;\n",
       "      gap: 12px;\n",
       "    }\n",
       "\n",
       "    .colab-df-convert {\n",
       "      background-color: #E8F0FE;\n",
       "      border: none;\n",
       "      border-radius: 50%;\n",
       "      cursor: pointer;\n",
       "      display: none;\n",
       "      fill: #1967D2;\n",
       "      height: 32px;\n",
       "      padding: 0 0 0 0;\n",
       "      width: 32px;\n",
       "    }\n",
       "\n",
       "    .colab-df-convert:hover {\n",
       "      background-color: #E2EBFA;\n",
       "      box-shadow: 0px 1px 2px rgba(60, 64, 67, 0.3), 0px 1px 3px 1px rgba(60, 64, 67, 0.15);\n",
       "      fill: #174EA6;\n",
       "    }\n",
       "\n",
       "    [theme=dark] .colab-df-convert {\n",
       "      background-color: #3B4455;\n",
       "      fill: #D2E3FC;\n",
       "    }\n",
       "\n",
       "    [theme=dark] .colab-df-convert:hover {\n",
       "      background-color: #434B5C;\n",
       "      box-shadow: 0px 1px 3px 1px rgba(0, 0, 0, 0.15);\n",
       "      filter: drop-shadow(0px 1px 2px rgba(0, 0, 0, 0.3));\n",
       "      fill: #FFFFFF;\n",
       "    }\n",
       "  </style>\n",
       "\n",
       "      <script>\n",
       "        const buttonEl =\n",
       "          document.querySelector('#df-9c7dfee6-190d-46ba-b3ce-d226cbc46a8f button.colab-df-convert');\n",
       "        buttonEl.style.display =\n",
       "          google.colab.kernel.accessAllowed ? 'block' : 'none';\n",
       "\n",
       "        async function convertToInteractive(key) {\n",
       "          const element = document.querySelector('#df-9c7dfee6-190d-46ba-b3ce-d226cbc46a8f');\n",
       "          const dataTable =\n",
       "            await google.colab.kernel.invokeFunction('convertToInteractive',\n",
       "                                                     [key], {});\n",
       "          if (!dataTable) return;\n",
       "\n",
       "          const docLinkHtml = 'Like what you see? Visit the ' +\n",
       "            '<a target=\"_blank\" href=https://colab.research.google.com/notebooks/data_table.ipynb>data table notebook</a>'\n",
       "            + ' to learn more about interactive tables.';\n",
       "          element.innerHTML = '';\n",
       "          dataTable['output_type'] = 'display_data';\n",
       "          await google.colab.output.renderOutput(dataTable, element);\n",
       "          const docLink = document.createElement('div');\n",
       "          docLink.innerHTML = docLinkHtml;\n",
       "          element.appendChild(docLink);\n",
       "        }\n",
       "      </script>\n",
       "    </div>\n",
       "  </div>\n",
       "  "
      ],
      "text/plain": [
       "                             Parsed Event Description  \\\n",
       "0   IT WAS REPORTED IN 10 BD¿ SYRINGES WITH NEEDLE...   \n",
       "1   ON (B)(6) 2016 I HAD AN INJECTION INTO MY LEFT...   \n",
       "10  CUSTOMER REPORTED THE FOLLOWING PROBLEM: \"I HA...   \n",
       "11  (B)(4). THIS DEVICE CASE, WHICH DOES NOT INVOL...   \n",
       "12  (B)(4). THIS DEVICE CASE, WHICH DOES NOT INVOL...   \n",
       "\n",
       "                             Broad Category 1  \\\n",
       "0   Components - missing/not working/detached   \n",
       "1              Contamination - Syringe/needle   \n",
       "10  Components - missing/not working/detached   \n",
       "11             Components - Damage / breakage   \n",
       "12             Components - Damage / breakage   \n",
       "\n",
       "                                         cleaned text  label  \\\n",
       "0   10 BD SYRINGES WITH NEEDLES LUER SLIP SYRINGES...      0   \n",
       "1   ON B6 2016 I HAD AN INJECTION INTO MY LEFT EYE...      2   \n",
       "10  PROBLEM I HAVE ORDERED THIS PRODUCT MANY TIMES...      0   \n",
       "11  B4. THIS DEVICE CASE, WHICH DOES NOT INVOLVE A...      1   \n",
       "12  B4. THIS DEVICE CASE, WHICH DOES NOT INVOLVE A...      1   \n",
       "\n",
       "                                    rev_label  \n",
       "0   Components - missing/not working/detached  \n",
       "1              Contamination - Syringe/needle  \n",
       "10  Components - missing/not working/detached  \n",
       "11             Components - Damage / breakage  \n",
       "12             Components - Damage / breakage  "
      ]
     },
     "execution_count": 14,
     "metadata": {},
     "output_type": "execute_result"
    }
   ],
   "source": [
    "df[\"rev_label\"] = df['label'].map(score_map)\n",
    "df.head()\n"
   ]
  },
  {
   "cell_type": "code",
   "execution_count": 15,
   "id": "e17a4cca",
   "metadata": {
    "colab": {
     "base_uri": "https://localhost:8080/",
     "height": 145,
     "referenced_widgets": [
      "32a8319e0687459198c83d53d0e805a1",
      "9a27fb30aeca4bf49cfb9a046da354f0",
      "2027f44dd8ed4bcb852f28a0c4df9ad6",
      "d7ecd91aa85444c1a23a4401d1c88044",
      "63a26841a4a84e5a9420c862679e5214",
      "7b4441c8039b4bfca1261b728ecad117",
      "04029bb4ff16421f811e1aca04a7c1b8",
      "32eee4a7000f418eb8dd0d9f5b46c7d8",
      "c72e27928b724a8696ac8ffe40b2ac5e",
      "6808cdbc20f74285b7d965851c237120",
      "ac699252b9654dc790c40f44e1efbf03",
      "91bab697a7f44bc3bfc834ee72dcb04a",
      "05bceb4b09464f638e08242930fc3b10",
      "3181bf8c5b184f6793d3e5d80d8a4d37",
      "6c71d1293bb54cc38f69c75bcbd4399e",
      "a66bc25f701d4530919a32f7b2a348eb",
      "730c07d39482484e93bf10b48abe694e",
      "5f6924f609de42a08ae6fb355f893cb3",
      "c83805df8b3443d58283bbe67860d488",
      "88c01af65a4342cbb03929cb5ec1d7da",
      "e854ff78e4644489a9e9ec8148c61950",
      "2d6fc182fa8e46d0b5aed3b3b967438b",
      "6c1384f2e8704a3fb0e4b0f06ae080c6",
      "51e54323d45b423283fb6910883f044e",
      "add92a262b274570b26b09b3fcd82743",
      "2bf9567e088446d39027ac6eec8e12fd",
      "7f7a7c691d1a4eda90bb75f5e68d1a49",
      "b425f1b6ade04d84a621d51eaf72b9c5",
      "93db059c32d849458bbce9c8ea37d6d9",
      "df35f01c88484b05996853601fdf1364",
      "ae822b5b54f14e8bac8b474b43c510db",
      "b43d0930053740e4836f2ebd5f4872fa",
      "65f66ae9afab40c4afa86ebc75ff54d8",
      "8b8922eacdbf418f97fe67a09cc1e7f1",
      "bf01f79b562d4d46a90fa9568b02b78b",
      "8c553c98b85741b087862fe77ecc4d3a",
      "8e4dff631ad9494daa20b1d86ded2549",
      "817317d7d0674656a7a06b0bbd518bf3",
      "ac5b5b04ce9b4e60ba8b3155fab17c67",
      "f9565201d9a84f17b095cde60bf5867b",
      "91bac3f63dfc4c689349ed06ba541dcb",
      "63589c92ce8b475696013af5dd375d2f",
      "c3b4a6f0d1364c6cb17e6cda36444f9f",
      "7318f81ac89e46f495524abc2aa6b5dd"
     ]
    },
    "id": "e17a4cca",
    "outputId": "bec06b52-b043-400a-cc5c-6893e94283cc"
   },
   "outputs": [
    {
     "data": {
      "application/vnd.jupyter.widget-view+json": {
       "model_id": "32a8319e0687459198c83d53d0e805a1",
       "version_major": 2,
       "version_minor": 0
      },
      "text/plain": [
       "Downloading:   0%|          | 0.00/462 [00:00<?, ?B/s]"
      ]
     },
     "metadata": {},
     "output_type": "display_data"
    },
    {
     "data": {
      "application/vnd.jupyter.widget-view+json": {
       "model_id": "91bab697a7f44bc3bfc834ee72dcb04a",
       "version_major": 2,
       "version_minor": 0
      },
      "text/plain": [
       "Downloading:   0%|          | 0.00/226k [00:00<?, ?B/s]"
      ]
     },
     "metadata": {},
     "output_type": "display_data"
    },
    {
     "data": {
      "application/vnd.jupyter.widget-view+json": {
       "model_id": "6c1384f2e8704a3fb0e4b0f06ae080c6",
       "version_major": 2,
       "version_minor": 0
      },
      "text/plain": [
       "Downloading:   0%|          | 0.00/112 [00:00<?, ?B/s]"
      ]
     },
     "metadata": {},
     "output_type": "display_data"
    },
    {
     "data": {
      "application/vnd.jupyter.widget-view+json": {
       "model_id": "8b8922eacdbf418f97fe67a09cc1e7f1",
       "version_major": 2,
       "version_minor": 0
      },
      "text/plain": [
       "Downloading:   0%|          | 0.00/198 [00:00<?, ?B/s]"
      ]
     },
     "metadata": {},
     "output_type": "display_data"
    }
   ],
   "source": [
    "modelGlobVar = \"cambridgeltl/SapBERT-from-PubMedBERT-fulltext\"\n",
    "tokenizer = AutoTokenizer.from_pretrained(modelGlobVar)\n",
    "\n",
    "train, val = train_test_split(df, test_size = 0.15, random_state = 0)\n"
   ]
  },
  {
   "cell_type": "code",
   "execution_count": 16,
   "id": "cc989343",
   "metadata": {
    "id": "cc989343"
   },
   "outputs": [],
   "source": [
    "class DatasetCreation(Dataset):\n",
    "    def __init__( self, text_column, label_column, tokenizer):\n",
    "        self.text_column = text_column\n",
    "        self.label_column = label_column\n",
    "        self.tokenizer = tokenizer\n",
    "        \n",
    "    def __len__(self):\n",
    "        return len(self.text_column)\n",
    "        \n",
    "    def __getitem__(self, idx):\n",
    "        text_data = self.tokenizer.encode_plus(\n",
    "            self.text_column[idx],\n",
    "            add_special_tokens = True,\n",
    "            truncation = True,\n",
    "            return_attention_mask = True,\n",
    "            padding= 'max_length',\n",
    "            max_length = Config.max_len,\n",
    "        )            #pad_to_max_length = True,\n",
    "        input_ids =text_data['input_ids']\n",
    "        masks = text_data['attention_mask']\n",
    "        label_column = self.label_column[idx]\n",
    "        \n",
    "        return {\n",
    "            'input_ids': torch.tensor(input_ids, dtype=torch.long),\n",
    "            'label': torch.tensor(label_column, dtype=torch.long),\n",
    "            'attention_mask': torch.tensor(masks, dtype=torch.long )\n",
    "        }"
   ]
  },
  {
   "cell_type": "code",
   "execution_count": 17,
   "id": "4999c2a2",
   "metadata": {
    "id": "4999c2a2"
   },
   "outputs": [],
   "source": [
    "train_data = DatasetCreation(text_column= train[\"Parsed Event Description\"].values,label_column = train[\"label\"].values,tokenizer = tokenizer)\n",
    "val_data = DatasetCreation(text_column= val[\"Parsed Event Description\"].values ,label_column = val[\"label\"].values,tokenizer = tokenizer)"
   ]
  },
  {
   "cell_type": "code",
   "execution_count": 18,
   "id": "0c9f4e77",
   "metadata": {
    "id": "0c9f4e77"
   },
   "outputs": [],
   "source": [
    "trainDataLoader = DataLoader(train_data, batch_size=Config.batch_size, shuffle=True)\n",
    "valDataLoader = DataLoader(val_data, batch_size=Config.batch_size)"
   ]
  },
  {
   "cell_type": "code",
   "execution_count": 19,
   "id": "75bdb4e3",
   "metadata": {
    "id": "75bdb4e3"
   },
   "outputs": [],
   "source": [
    "class ClassifierModel(nn.Module):\n",
    "    def __init__( self, dropout):\n",
    "        super(ClassifierModel, self).__init__()\n",
    "        self.bert = AutoModel.from_pretrained(modelGlobVar) \n",
    "        self.dropout = nn.Dropout(dropout)\n",
    "        self.linear = nn.Linear(Config.output_dim, Config.classes)\n",
    "        self.relu = nn.ReLU()\n",
    "        \n",
    "    def forward( self, input_id, mask):\n",
    "        pooled_out = self.bert(input_ids= input_id, attention_mask=mask)['pooler_output']    \n",
    "        dropuout_output = self.dropout(pooled_out)\n",
    "        linear_output = self.linear(dropuout_output)\n",
    "        final_layer = self.relu(linear_output)\n",
    "        return final_layer\n"
   ]
  },
  {
   "cell_type": "code",
   "execution_count": 20,
   "id": "9c14023e",
   "metadata": {
    "colab": {
     "base_uri": "https://localhost:8080/",
     "height": 49,
     "referenced_widgets": [
      "6630d111dc654e6abc365760132f6b40",
      "89a03e76270a40debed27774294d2cf7",
      "8082017bae8d41ef89f3d6d2d2bf3bee",
      "824f1ba97bf54d778331ebcbde382060",
      "5e986c60f4a44f7ab3934a144d8d842a",
      "14622f695e1145c198aadb516f608241",
      "7ea1881ce7ff45eeac1cf47f0e0be690",
      "36155adce55f46639dc37226ddb5a072",
      "5275d756f09f4e599b8de3a495d140e7",
      "22a6bff236fa4effbe2de2ff28512d40",
      "17df6261ee0047ea9635f64258c43107"
     ]
    },
    "id": "9c14023e",
    "outputId": "a17cd5eb-30ff-464a-ef50-44abcfadc68f"
   },
   "outputs": [
    {
     "data": {
      "application/vnd.jupyter.widget-view+json": {
       "model_id": "6630d111dc654e6abc365760132f6b40",
       "version_major": 2,
       "version_minor": 0
      },
      "text/plain": [
       "Downloading:   0%|          | 0.00/438M [00:00<?, ?B/s]"
      ]
     },
     "metadata": {},
     "output_type": "display_data"
    }
   ],
   "source": [
    "modelClassifier = ClassifierModel(dropout = 0.20)\n",
    "modelClassifier = modelClassifier.to(device)"
   ]
  },
  {
   "cell_type": "code",
   "execution_count": 21,
   "id": "7eca343a",
   "metadata": {
    "id": "7eca343a"
   },
   "outputs": [],
   "source": [
    "def evaluation_metrics(y_true, y_pred, strMethod):\n",
    "    precision = metrics.precision_score(y_true, y_pred, average=\"micro\")\n",
    "    cm = metrics.confusion_matrix(y_true, y_pred)\n",
    "    recall = metrics.recall_score(y_true, y_pred, average=\"micro\")\n",
    "    \n",
    "    balanced_accuracy = metrics.balanced_accuracy_score(y_true, y_pred, adjusted=False)\n",
    "    f1_score = metrics.f1_score(y_true, y_pred, average= \"micro\") \n",
    "    \n",
    "    print(f'\\n{strMethod}: \\nBalanced Accuracy {balanced_accuracy}, \\nPrecision {precision} \\nRecall {recall} \\nF1 Score {f1_score}')\n",
    "    print(\"Confusion Matrix: \", cm)\n",
    "\n",
    "    return f1_score"
   ]
  },
  {
   "cell_type": "code",
   "execution_count": 22,
   "id": "bf5d203a",
   "metadata": {
    "colab": {
     "base_uri": "https://localhost:8080/"
    },
    "id": "bf5d203a",
    "outputId": "910e4c16-e425-4b65-822c-0defd8ceb9a3"
   },
   "outputs": [
    {
     "name": "stderr",
     "output_type": "stream",
     "text": [
      "100%|██████████| 557/557 [01:44<00:00,  5.35it/s]\n"
     ]
    },
    {
     "name": "stdout",
     "output_type": "stream",
     "text": [
      "\n",
      "Epochs: 1 | Train Loss:  0.095 | Validation Loss: 0.09426839797551395\n",
      "\n",
      "training: \n",
      "Balanced Accuracy 0.528185996525078, \n",
      "Precision 0.7460674157303371 \n",
      "Recall 0.7460674157303371 \n",
      "F1 Score 0.746067415730337\n",
      "Confusion Matrix:  [[1132  183   48   24    0    2]\n",
      " [ 218  956   30    8    0    0]\n",
      " [ 154  114  931   47    3   10]\n",
      " [  40   30    8  298    0    0]\n",
      " [  84   33    6    1    0    0]\n",
      " [  20   22   40    5    0    3]]\n",
      "\n",
      "validation: \n",
      "Balanced Accuracy 0.5858410613541211, \n",
      "Precision 0.8358778625954199 \n",
      "Recall 0.8358778625954199 \n",
      "F1 Score 0.8358778625954199\n",
      "Confusion Matrix:  [[197  16   8   1   0   0]\n",
      " [ 44 175   5   0   0   0]\n",
      " [  5   2 226   1   0   0]\n",
      " [  7   0   1  59   0   0]\n",
      " [  8   9   2   0   0   0]\n",
      " [  2   3  15   0   0   0]]\n"
     ]
    },
    {
     "name": "stderr",
     "output_type": "stream",
     "text": [
      "100%|██████████| 557/557 [01:48<00:00,  5.13it/s]\n"
     ]
    },
    {
     "name": "stdout",
     "output_type": "stream",
     "text": [
      "\n",
      "Epochs: 2 | Train Loss:  0.047 | Validation Loss: 0.055510127931150774\n",
      "\n",
      "training: \n",
      "Balanced Accuracy 0.699579434691412, \n",
      "Precision 0.8847191011235955 \n",
      "Recall 0.8847191011235955 \n",
      "F1 Score 0.8847191011235955\n",
      "Confusion Matrix:  [[1240  107   31    9    0    2]\n",
      " [ 122 1062   21    4    0    3]\n",
      " [   5   14 1227    3    0   10]\n",
      " [   7    2    1  364    0    2]\n",
      " [  70   30   15    2    1    6]\n",
      " [   4    5   37    1    0   43]]\n",
      "\n",
      "validation: \n",
      "Balanced Accuracy 0.6859142250638716, \n",
      "Precision 0.8587786259541985 \n",
      "Recall 0.8587786259541985 \n",
      "F1 Score 0.8587786259541985\n",
      "Confusion Matrix:  [[185  25   8   1   0   3]\n",
      " [ 28 188   6   0   2   0]\n",
      " [  1   3 227   2   0   1]\n",
      " [  2   0   0  65   0   0]\n",
      " [  6  10   1   0   1   1]\n",
      " [  0   2   8   1   0   9]]\n"
     ]
    },
    {
     "name": "stderr",
     "output_type": "stream",
     "text": [
      "100%|██████████| 557/557 [01:55<00:00,  4.84it/s]\n"
     ]
    },
    {
     "name": "stdout",
     "output_type": "stream",
     "text": [
      "\n",
      "Epochs: 3 | Train Loss:  0.025 | Validation Loss: 0.002902252699127634\n",
      "\n",
      "training: \n",
      "Balanced Accuracy 0.8875557889629907, \n",
      "Precision 0.9462921348314607 \n",
      "Recall 0.9462921348314607 \n",
      "F1 Score 0.9462921348314607\n",
      "Confusion Matrix:  [[1310   49   19    5    4    2]\n",
      " [  62 1131    9    1    7    2]\n",
      " [   1    6 1237    0    1   14]\n",
      " [   0    1    0  375    0    0]\n",
      " [  13   13    1    0   94    3]\n",
      " [   4    3   18    0    1   64]]\n",
      "\n",
      "validation: \n",
      "Balanced Accuracy 0.743080145397506, \n",
      "Precision 0.8447837150127226 \n",
      "Recall 0.8447837150127226 \n",
      "F1 Score 0.8447837150127226\n",
      "Confusion Matrix:  [[177  35   7   1   1   1]\n",
      " [ 27 184   5   0   8   0]\n",
      " [  4   4 223   1   0   2]\n",
      " [  4   1   1  61   0   0]\n",
      " [  3   6   0   0  10   0]\n",
      " [  1   1   9   0   0   9]]\n"
     ]
    },
    {
     "name": "stderr",
     "output_type": "stream",
     "text": [
      "100%|██████████| 557/557 [01:55<00:00,  4.82it/s]\n"
     ]
    },
    {
     "name": "stdout",
     "output_type": "stream",
     "text": [
      "\n",
      "Epochs: 4 | Train Loss:  0.014 | Validation Loss: 0.0014562246155079084\n",
      "\n",
      "training: \n",
      "Balanced Accuracy 0.9472378897140953, \n",
      "Precision 0.9710112359550562 \n",
      "Recall 0.9710112359550562 \n",
      "F1 Score 0.9710112359550562\n",
      "Confusion Matrix:  [[1333   33   12    5    6    0]\n",
      " [  26 1175    5    1    5    0]\n",
      " [   2    2 1249    0    0    6]\n",
      " [   0    1    0  375    0    0]\n",
      " [   5    7    0    1  110    1]\n",
      " [   0    0   11    0    0   79]]\n",
      "\n",
      "validation: \n",
      "Balanced Accuracy 0.7291448939573448, \n",
      "Precision 0.8562340966921119 \n",
      "Recall 0.8562340966921119 \n",
      "F1 Score 0.8562340966921119\n",
      "Confusion Matrix:  [[186  26   6   1   1   2]\n",
      " [ 33 182   6   0   3   0]\n",
      " [  2   3 226   1   0   2]\n",
      " [  4   0   0  63   0   0]\n",
      " [  5   7   0   0   7   0]\n",
      " [  0   2   8   1   0   9]]\n"
     ]
    },
    {
     "name": "stderr",
     "output_type": "stream",
     "text": [
      "100%|██████████| 557/557 [01:55<00:00,  4.84it/s]\n"
     ]
    },
    {
     "name": "stdout",
     "output_type": "stream",
     "text": [
      "\n",
      "Epochs: 5 | Train Loss:  0.008 | Validation Loss: 0.0006280578121912616\n",
      "\n",
      "training: \n",
      "Balanced Accuracy 0.9779653412802674, \n",
      "Precision 0.9840449438202247 \n",
      "Recall 0.9840449438202247 \n",
      "F1 Score 0.9840449438202247\n",
      "Confusion Matrix:  [[1361   13   11    2    1    1]\n",
      " [  16 1187    4    0    5    0]\n",
      " [   2    2 1251    0    0    4]\n",
      " [   1    1    0  374    0    0]\n",
      " [   1    2    0    0  121    0]\n",
      " [   0    0    5    0    0   85]]\n",
      "\n",
      "validation: \n",
      "Balanced Accuracy 0.7324714617600517, \n",
      "Precision 0.851145038167939 \n",
      "Recall 0.851145038167939 \n",
      "F1 Score 0.851145038167939\n",
      "Confusion Matrix:  [[184  28   6   1   1   2]\n",
      " [ 33 181   5   0   5   0]\n",
      " [  1   4 225   1   0   3]\n",
      " [  5   0   0  62   0   0]\n",
      " [  6   5   0   0   8   0]\n",
      " [  0   2   8   1   0   9]]\n"
     ]
    },
    {
     "name": "stderr",
     "output_type": "stream",
     "text": [
      "100%|██████████| 557/557 [01:55<00:00,  4.83it/s]\n"
     ]
    },
    {
     "name": "stdout",
     "output_type": "stream",
     "text": [
      "\n",
      "Epochs: 6 | Train Loss:  0.006 | Validation Loss: 0.0005875761471404374\n",
      "\n",
      "training: \n",
      "Balanced Accuracy 0.992167929217076, \n",
      "Precision 0.9898876404494382 \n",
      "Recall 0.9898876404494382 \n",
      "F1 Score 0.9898876404494382\n",
      "Confusion Matrix:  [[1369   10    7    1    2    0]\n",
      " [  15 1194    3    0    0    0]\n",
      " [   3    1 1254    0    0    1]\n",
      " [   0    1    0  375    0    0]\n",
      " [   0    0    0    0  124    0]\n",
      " [   0    0    1    0    0   89]]\n",
      "\n",
      "validation: \n",
      "Balanced Accuracy 0.7609961443892118, \n",
      "Precision 0.8524173027989822 \n",
      "Recall 0.8524173027989822 \n",
      "F1 Score 0.8524173027989822\n",
      "Confusion Matrix:  [[161  49   7   1   2   2]\n",
      " [ 15 197   6   1   5   0]\n",
      " [  0   3 227   1   0   3]\n",
      " [  0   1   0  65   0   1]\n",
      " [  2   8   1   0   8   0]\n",
      " [  0   1   6   1   0  12]]\n"
     ]
    },
    {
     "name": "stderr",
     "output_type": "stream",
     "text": [
      "100%|██████████| 557/557 [01:55<00:00,  4.83it/s]\n"
     ]
    },
    {
     "name": "stdout",
     "output_type": "stream",
     "text": [
      "\n",
      "Epochs: 7 | Train Loss:  0.004 | Validation Loss: 0.015006768680710828\n",
      "\n",
      "training: \n",
      "Balanced Accuracy 0.9858224116877098, \n",
      "Precision 0.9914606741573033 \n",
      "Recall 0.9914606741573033 \n",
      "F1 Score 0.9914606741573033\n",
      "Confusion Matrix:  [[1372    8    3    2    1    3]\n",
      " [   7 1201    2    1    1    0]\n",
      " [   2    1 1255    0    0    1]\n",
      " [   0    0    0  376    0    0]\n",
      " [   1    1    0    0  122    0]\n",
      " [   0    0    4    0    0   86]]\n",
      "\n",
      "validation: \n",
      "Balanced Accuracy 0.8016307250056268, \n",
      "Precision 0.8435114503816794 \n",
      "Recall 0.8435114503816794 \n",
      "F1 Score 0.8435114503816794\n",
      "Confusion Matrix:  [[181  30   5   1   3   2]\n",
      " [ 27 182   4   0  11   0]\n",
      " [  6   6 214   1   0   7]\n",
      " [  6   1   0  59   0   1]\n",
      " [  1   4   0   0  14   0]\n",
      " [  0   1   4   1   1  13]]\n"
     ]
    },
    {
     "name": "stderr",
     "output_type": "stream",
     "text": [
      "100%|██████████| 557/557 [01:55<00:00,  4.83it/s]\n"
     ]
    },
    {
     "name": "stdout",
     "output_type": "stream",
     "text": [
      "\n",
      "Epochs: 8 | Train Loss:  0.004 | Validation Loss: 0.0002290087935109516\n",
      "\n",
      "training: \n",
      "Balanced Accuracy 0.9866489102927017, \n",
      "Precision 0.990561797752809 \n",
      "Recall 0.990561797752809 \n",
      "F1 Score 0.990561797752809\n",
      "Confusion Matrix:  [[1375    7    3    1    2    1]\n",
      " [   8 1198    2    1    2    1]\n",
      " [   2    2 1251    0    0    4]\n",
      " [   0    1    0  375    0    0]\n",
      " [   0    2    0    0  122    0]\n",
      " [   0    0    3    0    0   87]]\n",
      "\n",
      "validation: \n",
      "Balanced Accuracy 0.7384152435262018, \n",
      "Precision 0.8486005089058524 \n",
      "Recall 0.8486005089058524 \n",
      "F1 Score 0.8486005089058524\n",
      "Confusion Matrix:  [[188  26   5   1   0   2]\n",
      " [ 34 182   5   0   3   0]\n",
      " [ 11   3 217   1   0   2]\n",
      " [  4   0   0  62   0   1]\n",
      " [  6   6   0   0   7   0]\n",
      " [  1   1   6   1   0  11]]\n"
     ]
    },
    {
     "name": "stderr",
     "output_type": "stream",
     "text": [
      "100%|██████████| 557/557 [01:55<00:00,  4.84it/s]\n"
     ]
    },
    {
     "name": "stdout",
     "output_type": "stream",
     "text": [
      "\n",
      "Epochs: 9 | Train Loss:  0.003 | Validation Loss: 0.00017725305679744779\n",
      "\n",
      "training: \n",
      "Balanced Accuracy 0.9932613847313888, \n",
      "Precision 0.9930337078651685 \n",
      "Recall 0.9930337078651685 \n",
      "F1 Score 0.9930337078651685\n",
      "Confusion Matrix:  [[1376    7    2    1    2    1]\n",
      " [   6 1200    2    0    3    1]\n",
      " [   2    1 1256    0    0    0]\n",
      " [   1    0    0  375    0    0]\n",
      " [   0    1    1    0  122    0]\n",
      " [   0    0    0    0    0   90]]\n",
      "\n",
      "validation: \n",
      "Balanced Accuracy 0.7011638598956943, \n",
      "Precision 0.8409669211195929 \n",
      "Recall 0.8409669211195929 \n",
      "F1 Score 0.8409669211195929\n",
      "Confusion Matrix:  [[170  44   4   1   1   2]\n",
      " [ 22 195   4   1   2   0]\n",
      " [  0  10 221   1   0   2]\n",
      " [  4   1   0  61   0   1]\n",
      " [  2  11   0   0   6   0]\n",
      " [  0   2   9   1   0   8]]\n"
     ]
    },
    {
     "name": "stderr",
     "output_type": "stream",
     "text": [
      "100%|██████████| 557/557 [01:55<00:00,  4.83it/s]\n"
     ]
    },
    {
     "name": "stdout",
     "output_type": "stream",
     "text": [
      "\n",
      "Epochs: 10 | Train Loss:  0.003 | Validation Loss: 0.0005360650332317552\n",
      "\n",
      "training: \n",
      "Balanced Accuracy 0.991955532608606, \n",
      "Precision 0.9912359550561798 \n",
      "Recall 0.9912359550561798 \n",
      "F1 Score 0.9912359550561798\n",
      "Confusion Matrix:  [[1370   10    3    1    4    1]\n",
      " [  13 1198    1    0    0    0]\n",
      " [   1    1 1257    0    0    0]\n",
      " [   1    1    0  374    0    0]\n",
      " [   1    1    0    0  122    0]\n",
      " [   0    0    0    0    0   90]]\n",
      "\n",
      "validation: \n",
      "Balanced Accuracy 0.7553534278961419, \n",
      "Precision 0.8473282442748091 \n",
      "Recall 0.8473282442748091 \n",
      "F1 Score 0.8473282442748091\n",
      "Confusion Matrix:  [[199  16   5   1   0   1]\n",
      " [ 52 161   5   0   6   0]\n",
      " [  6   1 223   1   0   3]\n",
      " [  4   0   0  63   0   0]\n",
      " [  6   4   0   0   9   0]\n",
      " [  4   0   4   1   0  11]]\n"
     ]
    }
   ],
   "source": [
    "def training(model, train_dl, val_dl, lr, epochs):\n",
    "    optimizer = torch.optim.Adam(modelClassifier.parameters(), lr = lr) # play with weight decay and scheduler and optimizer , weight_decay = 0\n",
    "    criterion = nn.CrossEntropyLoss()\n",
    "\n",
    "    if torch.cuda.is_available():\n",
    "        model = model.cuda()\n",
    "        criterion = criterion.cuda()\n",
    "    \n",
    "    prev_loss = 9999\n",
    "    loss = 999\n",
    "    prev_f1 = -999\n",
    "    f1_score = -999\n",
    "    for epoch_num in range(epochs):\n",
    "\n",
    "        list_label = []\n",
    "        list_prob = []\n",
    "        total_train_loss = 0 # accuracy metrics\n",
    "\n",
    "        \n",
    "        for item in tqdm(train_dl):\n",
    "            train_label = item['label'].to(device)\n",
    "            mask = item['attention_mask'].to(device)\n",
    "            input_id = item['input_ids'].squeeze(1).to(device)\n",
    "            \n",
    "            output = model(input_id, mask)\n",
    "            batch_loss = criterion(output, train_label)\n",
    "            total_train_loss += batch_loss.item()            \n",
    "\n",
    "            train_label = train_label.cpu().detach().numpy()\n",
    "            sigmoid_prob = output.argmax(dim=1).cpu().detach().numpy()\n",
    "\n",
    "            list_label.append(np.array(train_label))\n",
    "            list_prob.append(np.array(sigmoid_prob))\n",
    "\n",
    "            model.zero_grad()\n",
    "            batch_loss.backward()\n",
    "            optimizer.step()\n",
    "        \n",
    "        list_label = np.concatenate(list_label, axis=0)\n",
    "        list_prob = np.concatenate(list_prob, axis=0)\n",
    "\n",
    "        total_val_loss = 0\n",
    "        list_val_label = []\n",
    "        list_val_prob = []\n",
    "        lst = []\n",
    "        j = 0\n",
    "        with torch.no_grad():\n",
    "            for item in val_dl:\n",
    "                val_label = item['label'].to(device)\n",
    "                mask = item['attention_mask'].to(device)\n",
    "                input_id = item['input_ids'].squeeze(1).to(device)\n",
    "\n",
    "                output = model(input_id, mask)\n",
    "\n",
    "                bach_loss = criterion(output, val_label)\n",
    "                total_val_loss += batch_loss.item()\n",
    "                \n",
    "                val_label = val_label.cpu().detach().numpy()\n",
    "                sigmoid_prob = output.argmax(dim=1).cpu().detach().numpy()\n",
    "\n",
    "                for i in range(len(val_label)):\n",
    "                    if(val_label[i] != sigmoid_prob[i]):\n",
    "                        lst.append([j, val_label[i], sigmoid_prob[i]])\n",
    "                    j += 1\n",
    "\n",
    "                list_val_label.append(np.array(val_label))\n",
    "                list_val_prob.append(np.array(sigmoid_prob))\n",
    "\n",
    "        list_val_label = np.concatenate(list_val_label, axis=0)\n",
    "        list_val_prob = np.concatenate(list_val_prob, axis=0)\n",
    "\n",
    "        print( f'\\nEpochs: {epoch_num + 1} | Train Loss: {total_train_loss / len(train_data): .3f} | Validation Loss: {total_val_loss / len(val_data)}')\n",
    "\n",
    "        evaluation_metrics(list_label, list_prob, \"training\")        \n",
    "        f1_score = evaluation_metrics(list_val_label, list_val_prob, \"validation\")\n",
    "        loss = total_val_loss\n",
    "\n",
    "        if(prev_loss > loss and prev_f1 < f1_score):\n",
    "            prev_loss = loss\n",
    "            prev_f1 = f1_score\n",
    "            modelClassifier.bert.save_pretrained(\"savedAgain\")\n",
    "\n",
    "            val[\"predictions\"] = list_val_prob\n",
    "\n",
    "        val[\"predicted_classes\"] = val ['predictions'].map(score_map)\n",
    "        val.to_csv(\"val_predictions.csv\")\n",
    "\n",
    "training(modelClassifier, trainDataLoader, valDataLoader, Config.lr, Config.epochs)\n"
   ]
  },
  {
   "cell_type": "code",
   "execution_count": 23,
   "id": "tJWpdHF0yK5P",
   "metadata": {
    "colab": {
     "base_uri": "https://localhost:8080/"
    },
    "id": "tJWpdHF0yK5P",
    "outputId": "a0199a42-649c-47b9-a9d6-63b16586fee4"
   },
   "outputs": [
    {
     "name": "stderr",
     "output_type": "stream",
     "text": [
      "Some weights of BertForSequenceClassification were not initialized from the model checkpoint at savedAgain and are newly initialized: ['classifier.bias', 'classifier.weight']\n",
      "You should probably TRAIN this model on a down-stream task to be able to use it for predictions and inference.\n"
     ]
    }
   ],
   "source": [
    "modelLoaded = AutoModelForSequenceClassification.from_pretrained(\"savedAgain\")\n",
    "multiclass_explainer = SequenceClassificationExplainer(model=modelLoaded, tokenizer=tokenizer)\n"
   ]
  },
  {
   "cell_type": "code",
   "execution_count": 24,
   "id": "SlHOrgVpMl7z",
   "metadata": {
    "colab": {
     "base_uri": "https://localhost:8080/"
    },
    "id": "SlHOrgVpMl7z",
    "outputId": "a2c4b5ef-1259-4978-f5f8-1366b428d29f"
   },
   "outputs": [
    {
     "data": {
      "text/plain": [
       "<transformers_interpret.explainers.sequence_classification.SequenceClassificationExplainer at 0x7f934da1c650>"
      ]
     },
     "execution_count": 24,
     "metadata": {},
     "output_type": "execute_result"
    }
   ],
   "source": [
    "multiclass_explainer"
   ]
  },
  {
   "cell_type": "code",
   "execution_count": 25,
   "id": "acLEOmz2EGm4",
   "metadata": {
    "id": "acLEOmz2EGm4"
   },
   "outputs": [],
   "source": [
    "textSen = \"WHILE USING A UNSPECIFIED BDÂ¿ SYRINGE WITH NEEDLE, Â¿WHEN TRYING TO PUT THE SHIELD ONTO THE NEEDLE, THE NEEDLE WENT THROUGH THE SHIELD AND POKED HERÂ¿. IT IS UN-CLEAR IF THE STICK WAS CLEAN OR DIRTY, IT IS UNKNOWN WHOM THE NEEDLE WAS USED ON.\"\n"
   ]
  },
  {
   "cell_type": "code",
   "execution_count": 26,
   "id": "K5fKYVWR12f5",
   "metadata": {
    "colab": {
     "base_uri": "https://localhost:8080/",
     "height": 138
    },
    "id": "K5fKYVWR12f5",
    "outputId": "e6e8cf47-1fe9-4bd5-cca1-13db45ebb645"
   },
   "outputs": [
    {
     "data": {
      "text/html": [
       "<table width: 100%><div style=\"border-top: 1px solid; margin-top: 5px;             padding-top: 5px; display: inline-block\"><b>Legend: </b><span style=\"display: inline-block; width: 10px; height: 10px;                 border: 1px solid; background-color:                 hsl(0, 75%, 60%)\"></span> Negative  <span style=\"display: inline-block; width: 10px; height: 10px;                 border: 1px solid; background-color:                 hsl(0, 75%, 100%)\"></span> Neutral  <span style=\"display: inline-block; width: 10px; height: 10px;                 border: 1px solid; background-color:                 hsl(120, 75%, 50%)\"></span> Positive  </div><tr><th>True Label</th><th>Predicted Label</th><th>Attribution Label</th><th>Attribution Score</th><th>Word Importance</th><tr><td><text style=\"padding-right:2em\"><b>1</b></text></td><td><text style=\"padding-right:2em\"><b>LABEL_1 (0.52)</b></text></td><td><text style=\"padding-right:2em\"><b>LABEL_1</b></text></td><td><text style=\"padding-right:2em\"><b>-0.12</b></text></td><td><mark style=\"background-color: hsl(0, 75%, 100%); opacity:1.0;                     line-height:1.75\"><font color=\"black\"> [CLS]                    </font></mark><mark style=\"background-color: hsl(120, 75%, 91%); opacity:1.0;                     line-height:1.75\"><font color=\"black\"> while                    </font></mark><mark style=\"background-color: hsl(0, 75%, 100%); opacity:1.0;                     line-height:1.75\"><font color=\"black\"> using                    </font></mark><mark style=\"background-color: hsl(0, 75%, 100%); opacity:1.0;                     line-height:1.75\"><font color=\"black\"> a                    </font></mark><mark style=\"background-color: hsl(0, 75%, 100%); opacity:1.0;                     line-height:1.75\"><font color=\"black\"> unspec                    </font></mark><mark style=\"background-color: hsl(120, 75%, 99%); opacity:1.0;                     line-height:1.75\"><font color=\"black\"> ##ified                    </font></mark><mark style=\"background-color: hsl(120, 75%, 100%); opacity:1.0;                     line-height:1.75\"><font color=\"black\"> bd                    </font></mark><mark style=\"background-color: hsl(120, 75%, 100%); opacity:1.0;                     line-height:1.75\"><font color=\"black\"> ##a                    </font></mark><mark style=\"background-color: hsl(120, 75%, 100%); opacity:1.0;                     line-height:1.75\"><font color=\"black\"> ¿                    </font></mark><mark style=\"background-color: hsl(0, 75%, 100%); opacity:1.0;                     line-height:1.75\"><font color=\"black\"> syringe                    </font></mark><mark style=\"background-color: hsl(0, 75%, 100%); opacity:1.0;                     line-height:1.75\"><font color=\"black\"> with                    </font></mark><mark style=\"background-color: hsl(0, 75%, 100%); opacity:1.0;                     line-height:1.75\"><font color=\"black\"> needle                    </font></mark><mark style=\"background-color: hsl(0, 75%, 100%); opacity:1.0;                     line-height:1.75\"><font color=\"black\"> ,                    </font></mark><mark style=\"background-color: hsl(0, 75%, 100%); opacity:1.0;                     line-height:1.75\"><font color=\"black\"> a                    </font></mark><mark style=\"background-color: hsl(120, 75%, 100%); opacity:1.0;                     line-height:1.75\"><font color=\"black\"> ¿                    </font></mark><mark style=\"background-color: hsl(120, 75%, 98%); opacity:1.0;                     line-height:1.75\"><font color=\"black\"> when                    </font></mark><mark style=\"background-color: hsl(0, 75%, 100%); opacity:1.0;                     line-height:1.75\"><font color=\"black\"> trying                    </font></mark><mark style=\"background-color: hsl(120, 75%, 99%); opacity:1.0;                     line-height:1.75\"><font color=\"black\"> to                    </font></mark><mark style=\"background-color: hsl(0, 75%, 100%); opacity:1.0;                     line-height:1.75\"><font color=\"black\"> put                    </font></mark><mark style=\"background-color: hsl(120, 75%, 100%); opacity:1.0;                     line-height:1.75\"><font color=\"black\"> the                    </font></mark><mark style=\"background-color: hsl(120, 75%, 71%); opacity:1.0;                     line-height:1.75\"><font color=\"black\"> shield                    </font></mark><mark style=\"background-color: hsl(120, 75%, 95%); opacity:1.0;                     line-height:1.75\"><font color=\"black\"> onto                    </font></mark><mark style=\"background-color: hsl(0, 75%, 100%); opacity:1.0;                     line-height:1.75\"><font color=\"black\"> the                    </font></mark><mark style=\"background-color: hsl(0, 75%, 100%); opacity:1.0;                     line-height:1.75\"><font color=\"black\"> needle                    </font></mark><mark style=\"background-color: hsl(0, 75%, 99%); opacity:1.0;                     line-height:1.75\"><font color=\"black\"> ,                    </font></mark><mark style=\"background-color: hsl(0, 75%, 97%); opacity:1.0;                     line-height:1.75\"><font color=\"black\"> the                    </font></mark><mark style=\"background-color: hsl(0, 75%, 98%); opacity:1.0;                     line-height:1.75\"><font color=\"black\"> needle                    </font></mark><mark style=\"background-color: hsl(0, 75%, 100%); opacity:1.0;                     line-height:1.75\"><font color=\"black\"> went                    </font></mark><mark style=\"background-color: hsl(0, 75%, 100%); opacity:1.0;                     line-height:1.75\"><font color=\"black\"> through                    </font></mark><mark style=\"background-color: hsl(120, 75%, 100%); opacity:1.0;                     line-height:1.75\"><font color=\"black\"> the                    </font></mark><mark style=\"background-color: hsl(120, 75%, 76%); opacity:1.0;                     line-height:1.75\"><font color=\"black\"> shield                    </font></mark><mark style=\"background-color: hsl(0, 75%, 100%); opacity:1.0;                     line-height:1.75\"><font color=\"black\"> and                    </font></mark><mark style=\"background-color: hsl(0, 75%, 100%); opacity:1.0;                     line-height:1.75\"><font color=\"black\"> po                    </font></mark><mark style=\"background-color: hsl(0, 75%, 100%); opacity:1.0;                     line-height:1.75\"><font color=\"black\"> ##ke                    </font></mark><mark style=\"background-color: hsl(120, 75%, 100%); opacity:1.0;                     line-height:1.75\"><font color=\"black\"> ##d                    </font></mark><mark style=\"background-color: hsl(120, 75%, 99%); opacity:1.0;                     line-height:1.75\"><font color=\"black\"> her                    </font></mark><mark style=\"background-color: hsl(120, 75%, 100%); opacity:1.0;                     line-height:1.75\"><font color=\"black\"> ##a                    </font></mark><mark style=\"background-color: hsl(0, 75%, 99%); opacity:1.0;                     line-height:1.75\"><font color=\"black\"> ¿                    </font></mark><mark style=\"background-color: hsl(0, 75%, 97%); opacity:1.0;                     line-height:1.75\"><font color=\"black\"> .                    </font></mark><mark style=\"background-color: hsl(0, 75%, 95%); opacity:1.0;                     line-height:1.75\"><font color=\"black\"> it                    </font></mark><mark style=\"background-color: hsl(0, 75%, 99%); opacity:1.0;                     line-height:1.75\"><font color=\"black\"> is                    </font></mark><mark style=\"background-color: hsl(0, 75%, 98%); opacity:1.0;                     line-height:1.75\"><font color=\"black\"> un                    </font></mark><mark style=\"background-color: hsl(0, 75%, 100%); opacity:1.0;                     line-height:1.75\"><font color=\"black\"> -                    </font></mark><mark style=\"background-color: hsl(0, 75%, 97%); opacity:1.0;                     line-height:1.75\"><font color=\"black\"> clear                    </font></mark><mark style=\"background-color: hsl(120, 75%, 92%); opacity:1.0;                     line-height:1.75\"><font color=\"black\"> if                    </font></mark><mark style=\"background-color: hsl(0, 75%, 100%); opacity:1.0;                     line-height:1.75\"><font color=\"black\"> the                    </font></mark><mark style=\"background-color: hsl(0, 75%, 99%); opacity:1.0;                     line-height:1.75\"><font color=\"black\"> stick                    </font></mark><mark style=\"background-color: hsl(0, 75%, 97%); opacity:1.0;                     line-height:1.75\"><font color=\"black\"> was                    </font></mark><mark style=\"background-color: hsl(0, 75%, 83%); opacity:1.0;                     line-height:1.75\"><font color=\"black\"> clean                    </font></mark><mark style=\"background-color: hsl(0, 75%, 93%); opacity:1.0;                     line-height:1.75\"><font color=\"black\"> or                    </font></mark><mark style=\"background-color: hsl(0, 75%, 98%); opacity:1.0;                     line-height:1.75\"><font color=\"black\"> dir                    </font></mark><mark style=\"background-color: hsl(0, 75%, 96%); opacity:1.0;                     line-height:1.75\"><font color=\"black\"> ##ty                    </font></mark><mark style=\"background-color: hsl(0, 75%, 100%); opacity:1.0;                     line-height:1.75\"><font color=\"black\"> ,                    </font></mark><mark style=\"background-color: hsl(120, 75%, 99%); opacity:1.0;                     line-height:1.75\"><font color=\"black\"> it                    </font></mark><mark style=\"background-color: hsl(0, 75%, 99%); opacity:1.0;                     line-height:1.75\"><font color=\"black\"> is                    </font></mark><mark style=\"background-color: hsl(0, 75%, 100%); opacity:1.0;                     line-height:1.75\"><font color=\"black\"> unknown                    </font></mark><mark style=\"background-color: hsl(0, 75%, 100%); opacity:1.0;                     line-height:1.75\"><font color=\"black\"> whom                    </font></mark><mark style=\"background-color: hsl(0, 75%, 98%); opacity:1.0;                     line-height:1.75\"><font color=\"black\"> the                    </font></mark><mark style=\"background-color: hsl(0, 75%, 98%); opacity:1.0;                     line-height:1.75\"><font color=\"black\"> needle                    </font></mark><mark style=\"background-color: hsl(120, 75%, 100%); opacity:1.0;                     line-height:1.75\"><font color=\"black\"> was                    </font></mark><mark style=\"background-color: hsl(0, 75%, 100%); opacity:1.0;                     line-height:1.75\"><font color=\"black\"> used                    </font></mark><mark style=\"background-color: hsl(120, 75%, 99%); opacity:1.0;                     line-height:1.75\"><font color=\"black\"> on                    </font></mark><mark style=\"background-color: hsl(120, 75%, 99%); opacity:1.0;                     line-height:1.75\"><font color=\"black\"> .                    </font></mark><mark style=\"background-color: hsl(0, 75%, 100%); opacity:1.0;                     line-height:1.75\"><font color=\"black\"> [SEP]                    </font></mark></td><tr></table>"
      ],
      "text/plain": [
       "<IPython.core.display.HTML object>"
      ]
     },
     "metadata": {},
     "output_type": "display_data"
    }
   ],
   "source": [
    "word_attributions = multiclass_explainer(text=textSen) #\" Components - Damage / breakage\" # first and last\n",
    "html = multiclass_explainer.visualize()\n"
   ]
  },
  {
   "cell_type": "markdown",
   "id": "b74d13d6",
   "metadata": {
    "id": "b74d13d6"
   },
   "source": [
    "# DONE!"
   ]
  }
 ],
 "metadata": {
  "accelerator": "GPU",
  "colab": {
   "collapsed_sections": [],
   "name": "Maude Classification",
   "provenance": []
  },
  "kernelspec": {
   "display_name": "Python 3 (ipykernel)",
   "language": "python",
   "name": "python3"
  },
  "language_info": {
   "codemirror_mode": {
    "name": "ipython",
    "version": 3
   },
   "file_extension": ".py",
   "mimetype": "text/x-python",
   "name": "python",
   "nbconvert_exporter": "python",
   "pygments_lexer": "ipython3",
   "version": "3.8.8"
  },
  "widgets": {
   "application/vnd.jupyter.widget-state+json": {
    "04029bb4ff16421f811e1aca04a7c1b8": {
     "model_module": "@jupyter-widgets/controls",
     "model_module_version": "1.5.0",
     "model_name": "DescriptionStyleModel",
     "state": {
      "_model_module": "@jupyter-widgets/controls",
      "_model_module_version": "1.5.0",
      "_model_name": "DescriptionStyleModel",
      "_view_count": null,
      "_view_module": "@jupyter-widgets/base",
      "_view_module_version": "1.2.0",
      "_view_name": "StyleView",
      "description_width": ""
     }
    },
    "05bceb4b09464f638e08242930fc3b10": {
     "model_module": "@jupyter-widgets/controls",
     "model_module_version": "1.5.0",
     "model_name": "HTMLModel",
     "state": {
      "_dom_classes": [],
      "_model_module": "@jupyter-widgets/controls",
      "_model_module_version": "1.5.0",
      "_model_name": "HTMLModel",
      "_view_count": null,
      "_view_module": "@jupyter-widgets/controls",
      "_view_module_version": "1.5.0",
      "_view_name": "HTMLView",
      "description": "",
      "description_tooltip": null,
      "layout": "IPY_MODEL_730c07d39482484e93bf10b48abe694e",
      "placeholder": "​",
      "style": "IPY_MODEL_5f6924f609de42a08ae6fb355f893cb3",
      "value": "Downloading: 100%"
     }
    },
    "14622f695e1145c198aadb516f608241": {
     "model_module": "@jupyter-widgets/base",
     "model_module_version": "1.2.0",
     "model_name": "LayoutModel",
     "state": {
      "_model_module": "@jupyter-widgets/base",
      "_model_module_version": "1.2.0",
      "_model_name": "LayoutModel",
      "_view_count": null,
      "_view_module": "@jupyter-widgets/base",
      "_view_module_version": "1.2.0",
      "_view_name": "LayoutView",
      "align_content": null,
      "align_items": null,
      "align_self": null,
      "border": null,
      "bottom": null,
      "display": null,
      "flex": null,
      "flex_flow": null,
      "grid_area": null,
      "grid_auto_columns": null,
      "grid_auto_flow": null,
      "grid_auto_rows": null,
      "grid_column": null,
      "grid_gap": null,
      "grid_row": null,
      "grid_template_areas": null,
      "grid_template_columns": null,
      "grid_template_rows": null,
      "height": null,
      "justify_content": null,
      "justify_items": null,
      "left": null,
      "margin": null,
      "max_height": null,
      "max_width": null,
      "min_height": null,
      "min_width": null,
      "object_fit": null,
      "object_position": null,
      "order": null,
      "overflow": null,
      "overflow_x": null,
      "overflow_y": null,
      "padding": null,
      "right": null,
      "top": null,
      "visibility": null,
      "width": null
     }
    },
    "17df6261ee0047ea9635f64258c43107": {
     "model_module": "@jupyter-widgets/controls",
     "model_module_version": "1.5.0",
     "model_name": "DescriptionStyleModel",
     "state": {
      "_model_module": "@jupyter-widgets/controls",
      "_model_module_version": "1.5.0",
      "_model_name": "DescriptionStyleModel",
      "_view_count": null,
      "_view_module": "@jupyter-widgets/base",
      "_view_module_version": "1.2.0",
      "_view_name": "StyleView",
      "description_width": ""
     }
    },
    "2027f44dd8ed4bcb852f28a0c4df9ad6": {
     "model_module": "@jupyter-widgets/controls",
     "model_module_version": "1.5.0",
     "model_name": "FloatProgressModel",
     "state": {
      "_dom_classes": [],
      "_model_module": "@jupyter-widgets/controls",
      "_model_module_version": "1.5.0",
      "_model_name": "FloatProgressModel",
      "_view_count": null,
      "_view_module": "@jupyter-widgets/controls",
      "_view_module_version": "1.5.0",
      "_view_name": "ProgressView",
      "bar_style": "success",
      "description": "",
      "description_tooltip": null,
      "layout": "IPY_MODEL_32eee4a7000f418eb8dd0d9f5b46c7d8",
      "max": 462,
      "min": 0,
      "orientation": "horizontal",
      "style": "IPY_MODEL_c72e27928b724a8696ac8ffe40b2ac5e",
      "value": 462
     }
    },
    "22a6bff236fa4effbe2de2ff28512d40": {
     "model_module": "@jupyter-widgets/base",
     "model_module_version": "1.2.0",
     "model_name": "LayoutModel",
     "state": {
      "_model_module": "@jupyter-widgets/base",
      "_model_module_version": "1.2.0",
      "_model_name": "LayoutModel",
      "_view_count": null,
      "_view_module": "@jupyter-widgets/base",
      "_view_module_version": "1.2.0",
      "_view_name": "LayoutView",
      "align_content": null,
      "align_items": null,
      "align_self": null,
      "border": null,
      "bottom": null,
      "display": null,
      "flex": null,
      "flex_flow": null,
      "grid_area": null,
      "grid_auto_columns": null,
      "grid_auto_flow": null,
      "grid_auto_rows": null,
      "grid_column": null,
      "grid_gap": null,
      "grid_row": null,
      "grid_template_areas": null,
      "grid_template_columns": null,
      "grid_template_rows": null,
      "height": null,
      "justify_content": null,
      "justify_items": null,
      "left": null,
      "margin": null,
      "max_height": null,
      "max_width": null,
      "min_height": null,
      "min_width": null,
      "object_fit": null,
      "object_position": null,
      "order": null,
      "overflow": null,
      "overflow_x": null,
      "overflow_y": null,
      "padding": null,
      "right": null,
      "top": null,
      "visibility": null,
      "width": null
     }
    },
    "2bf9567e088446d39027ac6eec8e12fd": {
     "model_module": "@jupyter-widgets/controls",
     "model_module_version": "1.5.0",
     "model_name": "HTMLModel",
     "state": {
      "_dom_classes": [],
      "_model_module": "@jupyter-widgets/controls",
      "_model_module_version": "1.5.0",
      "_model_name": "HTMLModel",
      "_view_count": null,
      "_view_module": "@jupyter-widgets/controls",
      "_view_module_version": "1.5.0",
      "_view_name": "HTMLView",
      "description": "",
      "description_tooltip": null,
      "layout": "IPY_MODEL_b43d0930053740e4836f2ebd5f4872fa",
      "placeholder": "​",
      "style": "IPY_MODEL_65f66ae9afab40c4afa86ebc75ff54d8",
      "value": " 112/112 [00:00&lt;00:00, 3.38kB/s]"
     }
    },
    "2d6fc182fa8e46d0b5aed3b3b967438b": {
     "model_module": "@jupyter-widgets/controls",
     "model_module_version": "1.5.0",
     "model_name": "DescriptionStyleModel",
     "state": {
      "_model_module": "@jupyter-widgets/controls",
      "_model_module_version": "1.5.0",
      "_model_name": "DescriptionStyleModel",
      "_view_count": null,
      "_view_module": "@jupyter-widgets/base",
      "_view_module_version": "1.2.0",
      "_view_name": "StyleView",
      "description_width": ""
     }
    },
    "3181bf8c5b184f6793d3e5d80d8a4d37": {
     "model_module": "@jupyter-widgets/controls",
     "model_module_version": "1.5.0",
     "model_name": "FloatProgressModel",
     "state": {
      "_dom_classes": [],
      "_model_module": "@jupyter-widgets/controls",
      "_model_module_version": "1.5.0",
      "_model_name": "FloatProgressModel",
      "_view_count": null,
      "_view_module": "@jupyter-widgets/controls",
      "_view_module_version": "1.5.0",
      "_view_name": "ProgressView",
      "bar_style": "success",
      "description": "",
      "description_tooltip": null,
      "layout": "IPY_MODEL_c83805df8b3443d58283bbe67860d488",
      "max": 226150,
      "min": 0,
      "orientation": "horizontal",
      "style": "IPY_MODEL_88c01af65a4342cbb03929cb5ec1d7da",
      "value": 226150
     }
    },
    "32a8319e0687459198c83d53d0e805a1": {
     "model_module": "@jupyter-widgets/controls",
     "model_module_version": "1.5.0",
     "model_name": "HBoxModel",
     "state": {
      "_dom_classes": [],
      "_model_module": "@jupyter-widgets/controls",
      "_model_module_version": "1.5.0",
      "_model_name": "HBoxModel",
      "_view_count": null,
      "_view_module": "@jupyter-widgets/controls",
      "_view_module_version": "1.5.0",
      "_view_name": "HBoxView",
      "box_style": "",
      "children": [
       "IPY_MODEL_9a27fb30aeca4bf49cfb9a046da354f0",
       "IPY_MODEL_2027f44dd8ed4bcb852f28a0c4df9ad6",
       "IPY_MODEL_d7ecd91aa85444c1a23a4401d1c88044"
      ],
      "layout": "IPY_MODEL_63a26841a4a84e5a9420c862679e5214"
     }
    },
    "32eee4a7000f418eb8dd0d9f5b46c7d8": {
     "model_module": "@jupyter-widgets/base",
     "model_module_version": "1.2.0",
     "model_name": "LayoutModel",
     "state": {
      "_model_module": "@jupyter-widgets/base",
      "_model_module_version": "1.2.0",
      "_model_name": "LayoutModel",
      "_view_count": null,
      "_view_module": "@jupyter-widgets/base",
      "_view_module_version": "1.2.0",
      "_view_name": "LayoutView",
      "align_content": null,
      "align_items": null,
      "align_self": null,
      "border": null,
      "bottom": null,
      "display": null,
      "flex": null,
      "flex_flow": null,
      "grid_area": null,
      "grid_auto_columns": null,
      "grid_auto_flow": null,
      "grid_auto_rows": null,
      "grid_column": null,
      "grid_gap": null,
      "grid_row": null,
      "grid_template_areas": null,
      "grid_template_columns": null,
      "grid_template_rows": null,
      "height": null,
      "justify_content": null,
      "justify_items": null,
      "left": null,
      "margin": null,
      "max_height": null,
      "max_width": null,
      "min_height": null,
      "min_width": null,
      "object_fit": null,
      "object_position": null,
      "order": null,
      "overflow": null,
      "overflow_x": null,
      "overflow_y": null,
      "padding": null,
      "right": null,
      "top": null,
      "visibility": null,
      "width": null
     }
    },
    "36155adce55f46639dc37226ddb5a072": {
     "model_module": "@jupyter-widgets/base",
     "model_module_version": "1.2.0",
     "model_name": "LayoutModel",
     "state": {
      "_model_module": "@jupyter-widgets/base",
      "_model_module_version": "1.2.0",
      "_model_name": "LayoutModel",
      "_view_count": null,
      "_view_module": "@jupyter-widgets/base",
      "_view_module_version": "1.2.0",
      "_view_name": "LayoutView",
      "align_content": null,
      "align_items": null,
      "align_self": null,
      "border": null,
      "bottom": null,
      "display": null,
      "flex": null,
      "flex_flow": null,
      "grid_area": null,
      "grid_auto_columns": null,
      "grid_auto_flow": null,
      "grid_auto_rows": null,
      "grid_column": null,
      "grid_gap": null,
      "grid_row": null,
      "grid_template_areas": null,
      "grid_template_columns": null,
      "grid_template_rows": null,
      "height": null,
      "justify_content": null,
      "justify_items": null,
      "left": null,
      "margin": null,
      "max_height": null,
      "max_width": null,
      "min_height": null,
      "min_width": null,
      "object_fit": null,
      "object_position": null,
      "order": null,
      "overflow": null,
      "overflow_x": null,
      "overflow_y": null,
      "padding": null,
      "right": null,
      "top": null,
      "visibility": null,
      "width": null
     }
    },
    "51e54323d45b423283fb6910883f044e": {
     "model_module": "@jupyter-widgets/controls",
     "model_module_version": "1.5.0",
     "model_name": "HTMLModel",
     "state": {
      "_dom_classes": [],
      "_model_module": "@jupyter-widgets/controls",
      "_model_module_version": "1.5.0",
      "_model_name": "HTMLModel",
      "_view_count": null,
      "_view_module": "@jupyter-widgets/controls",
      "_view_module_version": "1.5.0",
      "_view_name": "HTMLView",
      "description": "",
      "description_tooltip": null,
      "layout": "IPY_MODEL_b425f1b6ade04d84a621d51eaf72b9c5",
      "placeholder": "​",
      "style": "IPY_MODEL_93db059c32d849458bbce9c8ea37d6d9",
      "value": "Downloading: 100%"
     }
    },
    "5275d756f09f4e599b8de3a495d140e7": {
     "model_module": "@jupyter-widgets/controls",
     "model_module_version": "1.5.0",
     "model_name": "ProgressStyleModel",
     "state": {
      "_model_module": "@jupyter-widgets/controls",
      "_model_module_version": "1.5.0",
      "_model_name": "ProgressStyleModel",
      "_view_count": null,
      "_view_module": "@jupyter-widgets/base",
      "_view_module_version": "1.2.0",
      "_view_name": "StyleView",
      "bar_color": null,
      "description_width": ""
     }
    },
    "5e986c60f4a44f7ab3934a144d8d842a": {
     "model_module": "@jupyter-widgets/base",
     "model_module_version": "1.2.0",
     "model_name": "LayoutModel",
     "state": {
      "_model_module": "@jupyter-widgets/base",
      "_model_module_version": "1.2.0",
      "_model_name": "LayoutModel",
      "_view_count": null,
      "_view_module": "@jupyter-widgets/base",
      "_view_module_version": "1.2.0",
      "_view_name": "LayoutView",
      "align_content": null,
      "align_items": null,
      "align_self": null,
      "border": null,
      "bottom": null,
      "display": null,
      "flex": null,
      "flex_flow": null,
      "grid_area": null,
      "grid_auto_columns": null,
      "grid_auto_flow": null,
      "grid_auto_rows": null,
      "grid_column": null,
      "grid_gap": null,
      "grid_row": null,
      "grid_template_areas": null,
      "grid_template_columns": null,
      "grid_template_rows": null,
      "height": null,
      "justify_content": null,
      "justify_items": null,
      "left": null,
      "margin": null,
      "max_height": null,
      "max_width": null,
      "min_height": null,
      "min_width": null,
      "object_fit": null,
      "object_position": null,
      "order": null,
      "overflow": null,
      "overflow_x": null,
      "overflow_y": null,
      "padding": null,
      "right": null,
      "top": null,
      "visibility": null,
      "width": null
     }
    },
    "5f6924f609de42a08ae6fb355f893cb3": {
     "model_module": "@jupyter-widgets/controls",
     "model_module_version": "1.5.0",
     "model_name": "DescriptionStyleModel",
     "state": {
      "_model_module": "@jupyter-widgets/controls",
      "_model_module_version": "1.5.0",
      "_model_name": "DescriptionStyleModel",
      "_view_count": null,
      "_view_module": "@jupyter-widgets/base",
      "_view_module_version": "1.2.0",
      "_view_name": "StyleView",
      "description_width": ""
     }
    },
    "63589c92ce8b475696013af5dd375d2f": {
     "model_module": "@jupyter-widgets/controls",
     "model_module_version": "1.5.0",
     "model_name": "ProgressStyleModel",
     "state": {
      "_model_module": "@jupyter-widgets/controls",
      "_model_module_version": "1.5.0",
      "_model_name": "ProgressStyleModel",
      "_view_count": null,
      "_view_module": "@jupyter-widgets/base",
      "_view_module_version": "1.2.0",
      "_view_name": "StyleView",
      "bar_color": null,
      "description_width": ""
     }
    },
    "63a26841a4a84e5a9420c862679e5214": {
     "model_module": "@jupyter-widgets/base",
     "model_module_version": "1.2.0",
     "model_name": "LayoutModel",
     "state": {
      "_model_module": "@jupyter-widgets/base",
      "_model_module_version": "1.2.0",
      "_model_name": "LayoutModel",
      "_view_count": null,
      "_view_module": "@jupyter-widgets/base",
      "_view_module_version": "1.2.0",
      "_view_name": "LayoutView",
      "align_content": null,
      "align_items": null,
      "align_self": null,
      "border": null,
      "bottom": null,
      "display": null,
      "flex": null,
      "flex_flow": null,
      "grid_area": null,
      "grid_auto_columns": null,
      "grid_auto_flow": null,
      "grid_auto_rows": null,
      "grid_column": null,
      "grid_gap": null,
      "grid_row": null,
      "grid_template_areas": null,
      "grid_template_columns": null,
      "grid_template_rows": null,
      "height": null,
      "justify_content": null,
      "justify_items": null,
      "left": null,
      "margin": null,
      "max_height": null,
      "max_width": null,
      "min_height": null,
      "min_width": null,
      "object_fit": null,
      "object_position": null,
      "order": null,
      "overflow": null,
      "overflow_x": null,
      "overflow_y": null,
      "padding": null,
      "right": null,
      "top": null,
      "visibility": null,
      "width": null
     }
    },
    "65f66ae9afab40c4afa86ebc75ff54d8": {
     "model_module": "@jupyter-widgets/controls",
     "model_module_version": "1.5.0",
     "model_name": "DescriptionStyleModel",
     "state": {
      "_model_module": "@jupyter-widgets/controls",
      "_model_module_version": "1.5.0",
      "_model_name": "DescriptionStyleModel",
      "_view_count": null,
      "_view_module": "@jupyter-widgets/base",
      "_view_module_version": "1.2.0",
      "_view_name": "StyleView",
      "description_width": ""
     }
    },
    "6630d111dc654e6abc365760132f6b40": {
     "model_module": "@jupyter-widgets/controls",
     "model_module_version": "1.5.0",
     "model_name": "HBoxModel",
     "state": {
      "_dom_classes": [],
      "_model_module": "@jupyter-widgets/controls",
      "_model_module_version": "1.5.0",
      "_model_name": "HBoxModel",
      "_view_count": null,
      "_view_module": "@jupyter-widgets/controls",
      "_view_module_version": "1.5.0",
      "_view_name": "HBoxView",
      "box_style": "",
      "children": [
       "IPY_MODEL_89a03e76270a40debed27774294d2cf7",
       "IPY_MODEL_8082017bae8d41ef89f3d6d2d2bf3bee",
       "IPY_MODEL_824f1ba97bf54d778331ebcbde382060"
      ],
      "layout": "IPY_MODEL_5e986c60f4a44f7ab3934a144d8d842a"
     }
    },
    "6808cdbc20f74285b7d965851c237120": {
     "model_module": "@jupyter-widgets/base",
     "model_module_version": "1.2.0",
     "model_name": "LayoutModel",
     "state": {
      "_model_module": "@jupyter-widgets/base",
      "_model_module_version": "1.2.0",
      "_model_name": "LayoutModel",
      "_view_count": null,
      "_view_module": "@jupyter-widgets/base",
      "_view_module_version": "1.2.0",
      "_view_name": "LayoutView",
      "align_content": null,
      "align_items": null,
      "align_self": null,
      "border": null,
      "bottom": null,
      "display": null,
      "flex": null,
      "flex_flow": null,
      "grid_area": null,
      "grid_auto_columns": null,
      "grid_auto_flow": null,
      "grid_auto_rows": null,
      "grid_column": null,
      "grid_gap": null,
      "grid_row": null,
      "grid_template_areas": null,
      "grid_template_columns": null,
      "grid_template_rows": null,
      "height": null,
      "justify_content": null,
      "justify_items": null,
      "left": null,
      "margin": null,
      "max_height": null,
      "max_width": null,
      "min_height": null,
      "min_width": null,
      "object_fit": null,
      "object_position": null,
      "order": null,
      "overflow": null,
      "overflow_x": null,
      "overflow_y": null,
      "padding": null,
      "right": null,
      "top": null,
      "visibility": null,
      "width": null
     }
    },
    "6c1384f2e8704a3fb0e4b0f06ae080c6": {
     "model_module": "@jupyter-widgets/controls",
     "model_module_version": "1.5.0",
     "model_name": "HBoxModel",
     "state": {
      "_dom_classes": [],
      "_model_module": "@jupyter-widgets/controls",
      "_model_module_version": "1.5.0",
      "_model_name": "HBoxModel",
      "_view_count": null,
      "_view_module": "@jupyter-widgets/controls",
      "_view_module_version": "1.5.0",
      "_view_name": "HBoxView",
      "box_style": "",
      "children": [
       "IPY_MODEL_51e54323d45b423283fb6910883f044e",
       "IPY_MODEL_add92a262b274570b26b09b3fcd82743",
       "IPY_MODEL_2bf9567e088446d39027ac6eec8e12fd"
      ],
      "layout": "IPY_MODEL_7f7a7c691d1a4eda90bb75f5e68d1a49"
     }
    },
    "6c71d1293bb54cc38f69c75bcbd4399e": {
     "model_module": "@jupyter-widgets/controls",
     "model_module_version": "1.5.0",
     "model_name": "HTMLModel",
     "state": {
      "_dom_classes": [],
      "_model_module": "@jupyter-widgets/controls",
      "_model_module_version": "1.5.0",
      "_model_name": "HTMLModel",
      "_view_count": null,
      "_view_module": "@jupyter-widgets/controls",
      "_view_module_version": "1.5.0",
      "_view_name": "HTMLView",
      "description": "",
      "description_tooltip": null,
      "layout": "IPY_MODEL_e854ff78e4644489a9e9ec8148c61950",
      "placeholder": "​",
      "style": "IPY_MODEL_2d6fc182fa8e46d0b5aed3b3b967438b",
      "value": " 226k/226k [00:00&lt;00:00, 744kB/s]"
     }
    },
    "730c07d39482484e93bf10b48abe694e": {
     "model_module": "@jupyter-widgets/base",
     "model_module_version": "1.2.0",
     "model_name": "LayoutModel",
     "state": {
      "_model_module": "@jupyter-widgets/base",
      "_model_module_version": "1.2.0",
      "_model_name": "LayoutModel",
      "_view_count": null,
      "_view_module": "@jupyter-widgets/base",
      "_view_module_version": "1.2.0",
      "_view_name": "LayoutView",
      "align_content": null,
      "align_items": null,
      "align_self": null,
      "border": null,
      "bottom": null,
      "display": null,
      "flex": null,
      "flex_flow": null,
      "grid_area": null,
      "grid_auto_columns": null,
      "grid_auto_flow": null,
      "grid_auto_rows": null,
      "grid_column": null,
      "grid_gap": null,
      "grid_row": null,
      "grid_template_areas": null,
      "grid_template_columns": null,
      "grid_template_rows": null,
      "height": null,
      "justify_content": null,
      "justify_items": null,
      "left": null,
      "margin": null,
      "max_height": null,
      "max_width": null,
      "min_height": null,
      "min_width": null,
      "object_fit": null,
      "object_position": null,
      "order": null,
      "overflow": null,
      "overflow_x": null,
      "overflow_y": null,
      "padding": null,
      "right": null,
      "top": null,
      "visibility": null,
      "width": null
     }
    },
    "7318f81ac89e46f495524abc2aa6b5dd": {
     "model_module": "@jupyter-widgets/controls",
     "model_module_version": "1.5.0",
     "model_name": "DescriptionStyleModel",
     "state": {
      "_model_module": "@jupyter-widgets/controls",
      "_model_module_version": "1.5.0",
      "_model_name": "DescriptionStyleModel",
      "_view_count": null,
      "_view_module": "@jupyter-widgets/base",
      "_view_module_version": "1.2.0",
      "_view_name": "StyleView",
      "description_width": ""
     }
    },
    "7b4441c8039b4bfca1261b728ecad117": {
     "model_module": "@jupyter-widgets/base",
     "model_module_version": "1.2.0",
     "model_name": "LayoutModel",
     "state": {
      "_model_module": "@jupyter-widgets/base",
      "_model_module_version": "1.2.0",
      "_model_name": "LayoutModel",
      "_view_count": null,
      "_view_module": "@jupyter-widgets/base",
      "_view_module_version": "1.2.0",
      "_view_name": "LayoutView",
      "align_content": null,
      "align_items": null,
      "align_self": null,
      "border": null,
      "bottom": null,
      "display": null,
      "flex": null,
      "flex_flow": null,
      "grid_area": null,
      "grid_auto_columns": null,
      "grid_auto_flow": null,
      "grid_auto_rows": null,
      "grid_column": null,
      "grid_gap": null,
      "grid_row": null,
      "grid_template_areas": null,
      "grid_template_columns": null,
      "grid_template_rows": null,
      "height": null,
      "justify_content": null,
      "justify_items": null,
      "left": null,
      "margin": null,
      "max_height": null,
      "max_width": null,
      "min_height": null,
      "min_width": null,
      "object_fit": null,
      "object_position": null,
      "order": null,
      "overflow": null,
      "overflow_x": null,
      "overflow_y": null,
      "padding": null,
      "right": null,
      "top": null,
      "visibility": null,
      "width": null
     }
    },
    "7ea1881ce7ff45eeac1cf47f0e0be690": {
     "model_module": "@jupyter-widgets/controls",
     "model_module_version": "1.5.0",
     "model_name": "DescriptionStyleModel",
     "state": {
      "_model_module": "@jupyter-widgets/controls",
      "_model_module_version": "1.5.0",
      "_model_name": "DescriptionStyleModel",
      "_view_count": null,
      "_view_module": "@jupyter-widgets/base",
      "_view_module_version": "1.2.0",
      "_view_name": "StyleView",
      "description_width": ""
     }
    },
    "7f7a7c691d1a4eda90bb75f5e68d1a49": {
     "model_module": "@jupyter-widgets/base",
     "model_module_version": "1.2.0",
     "model_name": "LayoutModel",
     "state": {
      "_model_module": "@jupyter-widgets/base",
      "_model_module_version": "1.2.0",
      "_model_name": "LayoutModel",
      "_view_count": null,
      "_view_module": "@jupyter-widgets/base",
      "_view_module_version": "1.2.0",
      "_view_name": "LayoutView",
      "align_content": null,
      "align_items": null,
      "align_self": null,
      "border": null,
      "bottom": null,
      "display": null,
      "flex": null,
      "flex_flow": null,
      "grid_area": null,
      "grid_auto_columns": null,
      "grid_auto_flow": null,
      "grid_auto_rows": null,
      "grid_column": null,
      "grid_gap": null,
      "grid_row": null,
      "grid_template_areas": null,
      "grid_template_columns": null,
      "grid_template_rows": null,
      "height": null,
      "justify_content": null,
      "justify_items": null,
      "left": null,
      "margin": null,
      "max_height": null,
      "max_width": null,
      "min_height": null,
      "min_width": null,
      "object_fit": null,
      "object_position": null,
      "order": null,
      "overflow": null,
      "overflow_x": null,
      "overflow_y": null,
      "padding": null,
      "right": null,
      "top": null,
      "visibility": null,
      "width": null
     }
    },
    "8082017bae8d41ef89f3d6d2d2bf3bee": {
     "model_module": "@jupyter-widgets/controls",
     "model_module_version": "1.5.0",
     "model_name": "FloatProgressModel",
     "state": {
      "_dom_classes": [],
      "_model_module": "@jupyter-widgets/controls",
      "_model_module_version": "1.5.0",
      "_model_name": "FloatProgressModel",
      "_view_count": null,
      "_view_module": "@jupyter-widgets/controls",
      "_view_module_version": "1.5.0",
      "_view_name": "ProgressView",
      "bar_style": "success",
      "description": "",
      "description_tooltip": null,
      "layout": "IPY_MODEL_36155adce55f46639dc37226ddb5a072",
      "max": 438012727,
      "min": 0,
      "orientation": "horizontal",
      "style": "IPY_MODEL_5275d756f09f4e599b8de3a495d140e7",
      "value": 438012727
     }
    },
    "817317d7d0674656a7a06b0bbd518bf3": {
     "model_module": "@jupyter-widgets/base",
     "model_module_version": "1.2.0",
     "model_name": "LayoutModel",
     "state": {
      "_model_module": "@jupyter-widgets/base",
      "_model_module_version": "1.2.0",
      "_model_name": "LayoutModel",
      "_view_count": null,
      "_view_module": "@jupyter-widgets/base",
      "_view_module_version": "1.2.0",
      "_view_name": "LayoutView",
      "align_content": null,
      "align_items": null,
      "align_self": null,
      "border": null,
      "bottom": null,
      "display": null,
      "flex": null,
      "flex_flow": null,
      "grid_area": null,
      "grid_auto_columns": null,
      "grid_auto_flow": null,
      "grid_auto_rows": null,
      "grid_column": null,
      "grid_gap": null,
      "grid_row": null,
      "grid_template_areas": null,
      "grid_template_columns": null,
      "grid_template_rows": null,
      "height": null,
      "justify_content": null,
      "justify_items": null,
      "left": null,
      "margin": null,
      "max_height": null,
      "max_width": null,
      "min_height": null,
      "min_width": null,
      "object_fit": null,
      "object_position": null,
      "order": null,
      "overflow": null,
      "overflow_x": null,
      "overflow_y": null,
      "padding": null,
      "right": null,
      "top": null,
      "visibility": null,
      "width": null
     }
    },
    "824f1ba97bf54d778331ebcbde382060": {
     "model_module": "@jupyter-widgets/controls",
     "model_module_version": "1.5.0",
     "model_name": "HTMLModel",
     "state": {
      "_dom_classes": [],
      "_model_module": "@jupyter-widgets/controls",
      "_model_module_version": "1.5.0",
      "_model_name": "HTMLModel",
      "_view_count": null,
      "_view_module": "@jupyter-widgets/controls",
      "_view_module_version": "1.5.0",
      "_view_name": "HTMLView",
      "description": "",
      "description_tooltip": null,
      "layout": "IPY_MODEL_22a6bff236fa4effbe2de2ff28512d40",
      "placeholder": "​",
      "style": "IPY_MODEL_17df6261ee0047ea9635f64258c43107",
      "value": " 438M/438M [00:15&lt;00:00, 29.4MB/s]"
     }
    },
    "88c01af65a4342cbb03929cb5ec1d7da": {
     "model_module": "@jupyter-widgets/controls",
     "model_module_version": "1.5.0",
     "model_name": "ProgressStyleModel",
     "state": {
      "_model_module": "@jupyter-widgets/controls",
      "_model_module_version": "1.5.0",
      "_model_name": "ProgressStyleModel",
      "_view_count": null,
      "_view_module": "@jupyter-widgets/base",
      "_view_module_version": "1.2.0",
      "_view_name": "StyleView",
      "bar_color": null,
      "description_width": ""
     }
    },
    "89a03e76270a40debed27774294d2cf7": {
     "model_module": "@jupyter-widgets/controls",
     "model_module_version": "1.5.0",
     "model_name": "HTMLModel",
     "state": {
      "_dom_classes": [],
      "_model_module": "@jupyter-widgets/controls",
      "_model_module_version": "1.5.0",
      "_model_name": "HTMLModel",
      "_view_count": null,
      "_view_module": "@jupyter-widgets/controls",
      "_view_module_version": "1.5.0",
      "_view_name": "HTMLView",
      "description": "",
      "description_tooltip": null,
      "layout": "IPY_MODEL_14622f695e1145c198aadb516f608241",
      "placeholder": "​",
      "style": "IPY_MODEL_7ea1881ce7ff45eeac1cf47f0e0be690",
      "value": "Downloading: 100%"
     }
    },
    "8b8922eacdbf418f97fe67a09cc1e7f1": {
     "model_module": "@jupyter-widgets/controls",
     "model_module_version": "1.5.0",
     "model_name": "HBoxModel",
     "state": {
      "_dom_classes": [],
      "_model_module": "@jupyter-widgets/controls",
      "_model_module_version": "1.5.0",
      "_model_name": "HBoxModel",
      "_view_count": null,
      "_view_module": "@jupyter-widgets/controls",
      "_view_module_version": "1.5.0",
      "_view_name": "HBoxView",
      "box_style": "",
      "children": [
       "IPY_MODEL_bf01f79b562d4d46a90fa9568b02b78b",
       "IPY_MODEL_8c553c98b85741b087862fe77ecc4d3a",
       "IPY_MODEL_8e4dff631ad9494daa20b1d86ded2549"
      ],
      "layout": "IPY_MODEL_817317d7d0674656a7a06b0bbd518bf3"
     }
    },
    "8c553c98b85741b087862fe77ecc4d3a": {
     "model_module": "@jupyter-widgets/controls",
     "model_module_version": "1.5.0",
     "model_name": "FloatProgressModel",
     "state": {
      "_dom_classes": [],
      "_model_module": "@jupyter-widgets/controls",
      "_model_module_version": "1.5.0",
      "_model_name": "FloatProgressModel",
      "_view_count": null,
      "_view_module": "@jupyter-widgets/controls",
      "_view_module_version": "1.5.0",
      "_view_name": "ProgressView",
      "bar_style": "success",
      "description": "",
      "description_tooltip": null,
      "layout": "IPY_MODEL_91bac3f63dfc4c689349ed06ba541dcb",
      "max": 198,
      "min": 0,
      "orientation": "horizontal",
      "style": "IPY_MODEL_63589c92ce8b475696013af5dd375d2f",
      "value": 198
     }
    },
    "8e4dff631ad9494daa20b1d86ded2549": {
     "model_module": "@jupyter-widgets/controls",
     "model_module_version": "1.5.0",
     "model_name": "HTMLModel",
     "state": {
      "_dom_classes": [],
      "_model_module": "@jupyter-widgets/controls",
      "_model_module_version": "1.5.0",
      "_model_name": "HTMLModel",
      "_view_count": null,
      "_view_module": "@jupyter-widgets/controls",
      "_view_module_version": "1.5.0",
      "_view_name": "HTMLView",
      "description": "",
      "description_tooltip": null,
      "layout": "IPY_MODEL_c3b4a6f0d1364c6cb17e6cda36444f9f",
      "placeholder": "​",
      "style": "IPY_MODEL_7318f81ac89e46f495524abc2aa6b5dd",
      "value": " 198/198 [00:00&lt;00:00, 5.37kB/s]"
     }
    },
    "91bab697a7f44bc3bfc834ee72dcb04a": {
     "model_module": "@jupyter-widgets/controls",
     "model_module_version": "1.5.0",
     "model_name": "HBoxModel",
     "state": {
      "_dom_classes": [],
      "_model_module": "@jupyter-widgets/controls",
      "_model_module_version": "1.5.0",
      "_model_name": "HBoxModel",
      "_view_count": null,
      "_view_module": "@jupyter-widgets/controls",
      "_view_module_version": "1.5.0",
      "_view_name": "HBoxView",
      "box_style": "",
      "children": [
       "IPY_MODEL_05bceb4b09464f638e08242930fc3b10",
       "IPY_MODEL_3181bf8c5b184f6793d3e5d80d8a4d37",
       "IPY_MODEL_6c71d1293bb54cc38f69c75bcbd4399e"
      ],
      "layout": "IPY_MODEL_a66bc25f701d4530919a32f7b2a348eb"
     }
    },
    "91bac3f63dfc4c689349ed06ba541dcb": {
     "model_module": "@jupyter-widgets/base",
     "model_module_version": "1.2.0",
     "model_name": "LayoutModel",
     "state": {
      "_model_module": "@jupyter-widgets/base",
      "_model_module_version": "1.2.0",
      "_model_name": "LayoutModel",
      "_view_count": null,
      "_view_module": "@jupyter-widgets/base",
      "_view_module_version": "1.2.0",
      "_view_name": "LayoutView",
      "align_content": null,
      "align_items": null,
      "align_self": null,
      "border": null,
      "bottom": null,
      "display": null,
      "flex": null,
      "flex_flow": null,
      "grid_area": null,
      "grid_auto_columns": null,
      "grid_auto_flow": null,
      "grid_auto_rows": null,
      "grid_column": null,
      "grid_gap": null,
      "grid_row": null,
      "grid_template_areas": null,
      "grid_template_columns": null,
      "grid_template_rows": null,
      "height": null,
      "justify_content": null,
      "justify_items": null,
      "left": null,
      "margin": null,
      "max_height": null,
      "max_width": null,
      "min_height": null,
      "min_width": null,
      "object_fit": null,
      "object_position": null,
      "order": null,
      "overflow": null,
      "overflow_x": null,
      "overflow_y": null,
      "padding": null,
      "right": null,
      "top": null,
      "visibility": null,
      "width": null
     }
    },
    "93db059c32d849458bbce9c8ea37d6d9": {
     "model_module": "@jupyter-widgets/controls",
     "model_module_version": "1.5.0",
     "model_name": "DescriptionStyleModel",
     "state": {
      "_model_module": "@jupyter-widgets/controls",
      "_model_module_version": "1.5.0",
      "_model_name": "DescriptionStyleModel",
      "_view_count": null,
      "_view_module": "@jupyter-widgets/base",
      "_view_module_version": "1.2.0",
      "_view_name": "StyleView",
      "description_width": ""
     }
    },
    "9a27fb30aeca4bf49cfb9a046da354f0": {
     "model_module": "@jupyter-widgets/controls",
     "model_module_version": "1.5.0",
     "model_name": "HTMLModel",
     "state": {
      "_dom_classes": [],
      "_model_module": "@jupyter-widgets/controls",
      "_model_module_version": "1.5.0",
      "_model_name": "HTMLModel",
      "_view_count": null,
      "_view_module": "@jupyter-widgets/controls",
      "_view_module_version": "1.5.0",
      "_view_name": "HTMLView",
      "description": "",
      "description_tooltip": null,
      "layout": "IPY_MODEL_7b4441c8039b4bfca1261b728ecad117",
      "placeholder": "​",
      "style": "IPY_MODEL_04029bb4ff16421f811e1aca04a7c1b8",
      "value": "Downloading: 100%"
     }
    },
    "a66bc25f701d4530919a32f7b2a348eb": {
     "model_module": "@jupyter-widgets/base",
     "model_module_version": "1.2.0",
     "model_name": "LayoutModel",
     "state": {
      "_model_module": "@jupyter-widgets/base",
      "_model_module_version": "1.2.0",
      "_model_name": "LayoutModel",
      "_view_count": null,
      "_view_module": "@jupyter-widgets/base",
      "_view_module_version": "1.2.0",
      "_view_name": "LayoutView",
      "align_content": null,
      "align_items": null,
      "align_self": null,
      "border": null,
      "bottom": null,
      "display": null,
      "flex": null,
      "flex_flow": null,
      "grid_area": null,
      "grid_auto_columns": null,
      "grid_auto_flow": null,
      "grid_auto_rows": null,
      "grid_column": null,
      "grid_gap": null,
      "grid_row": null,
      "grid_template_areas": null,
      "grid_template_columns": null,
      "grid_template_rows": null,
      "height": null,
      "justify_content": null,
      "justify_items": null,
      "left": null,
      "margin": null,
      "max_height": null,
      "max_width": null,
      "min_height": null,
      "min_width": null,
      "object_fit": null,
      "object_position": null,
      "order": null,
      "overflow": null,
      "overflow_x": null,
      "overflow_y": null,
      "padding": null,
      "right": null,
      "top": null,
      "visibility": null,
      "width": null
     }
    },
    "ac5b5b04ce9b4e60ba8b3155fab17c67": {
     "model_module": "@jupyter-widgets/base",
     "model_module_version": "1.2.0",
     "model_name": "LayoutModel",
     "state": {
      "_model_module": "@jupyter-widgets/base",
      "_model_module_version": "1.2.0",
      "_model_name": "LayoutModel",
      "_view_count": null,
      "_view_module": "@jupyter-widgets/base",
      "_view_module_version": "1.2.0",
      "_view_name": "LayoutView",
      "align_content": null,
      "align_items": null,
      "align_self": null,
      "border": null,
      "bottom": null,
      "display": null,
      "flex": null,
      "flex_flow": null,
      "grid_area": null,
      "grid_auto_columns": null,
      "grid_auto_flow": null,
      "grid_auto_rows": null,
      "grid_column": null,
      "grid_gap": null,
      "grid_row": null,
      "grid_template_areas": null,
      "grid_template_columns": null,
      "grid_template_rows": null,
      "height": null,
      "justify_content": null,
      "justify_items": null,
      "left": null,
      "margin": null,
      "max_height": null,
      "max_width": null,
      "min_height": null,
      "min_width": null,
      "object_fit": null,
      "object_position": null,
      "order": null,
      "overflow": null,
      "overflow_x": null,
      "overflow_y": null,
      "padding": null,
      "right": null,
      "top": null,
      "visibility": null,
      "width": null
     }
    },
    "ac699252b9654dc790c40f44e1efbf03": {
     "model_module": "@jupyter-widgets/controls",
     "model_module_version": "1.5.0",
     "model_name": "DescriptionStyleModel",
     "state": {
      "_model_module": "@jupyter-widgets/controls",
      "_model_module_version": "1.5.0",
      "_model_name": "DescriptionStyleModel",
      "_view_count": null,
      "_view_module": "@jupyter-widgets/base",
      "_view_module_version": "1.2.0",
      "_view_name": "StyleView",
      "description_width": ""
     }
    },
    "add92a262b274570b26b09b3fcd82743": {
     "model_module": "@jupyter-widgets/controls",
     "model_module_version": "1.5.0",
     "model_name": "FloatProgressModel",
     "state": {
      "_dom_classes": [],
      "_model_module": "@jupyter-widgets/controls",
      "_model_module_version": "1.5.0",
      "_model_name": "FloatProgressModel",
      "_view_count": null,
      "_view_module": "@jupyter-widgets/controls",
      "_view_module_version": "1.5.0",
      "_view_name": "ProgressView",
      "bar_style": "success",
      "description": "",
      "description_tooltip": null,
      "layout": "IPY_MODEL_df35f01c88484b05996853601fdf1364",
      "max": 112,
      "min": 0,
      "orientation": "horizontal",
      "style": "IPY_MODEL_ae822b5b54f14e8bac8b474b43c510db",
      "value": 112
     }
    },
    "ae822b5b54f14e8bac8b474b43c510db": {
     "model_module": "@jupyter-widgets/controls",
     "model_module_version": "1.5.0",
     "model_name": "ProgressStyleModel",
     "state": {
      "_model_module": "@jupyter-widgets/controls",
      "_model_module_version": "1.5.0",
      "_model_name": "ProgressStyleModel",
      "_view_count": null,
      "_view_module": "@jupyter-widgets/base",
      "_view_module_version": "1.2.0",
      "_view_name": "StyleView",
      "bar_color": null,
      "description_width": ""
     }
    },
    "b425f1b6ade04d84a621d51eaf72b9c5": {
     "model_module": "@jupyter-widgets/base",
     "model_module_version": "1.2.0",
     "model_name": "LayoutModel",
     "state": {
      "_model_module": "@jupyter-widgets/base",
      "_model_module_version": "1.2.0",
      "_model_name": "LayoutModel",
      "_view_count": null,
      "_view_module": "@jupyter-widgets/base",
      "_view_module_version": "1.2.0",
      "_view_name": "LayoutView",
      "align_content": null,
      "align_items": null,
      "align_self": null,
      "border": null,
      "bottom": null,
      "display": null,
      "flex": null,
      "flex_flow": null,
      "grid_area": null,
      "grid_auto_columns": null,
      "grid_auto_flow": null,
      "grid_auto_rows": null,
      "grid_column": null,
      "grid_gap": null,
      "grid_row": null,
      "grid_template_areas": null,
      "grid_template_columns": null,
      "grid_template_rows": null,
      "height": null,
      "justify_content": null,
      "justify_items": null,
      "left": null,
      "margin": null,
      "max_height": null,
      "max_width": null,
      "min_height": null,
      "min_width": null,
      "object_fit": null,
      "object_position": null,
      "order": null,
      "overflow": null,
      "overflow_x": null,
      "overflow_y": null,
      "padding": null,
      "right": null,
      "top": null,
      "visibility": null,
      "width": null
     }
    },
    "b43d0930053740e4836f2ebd5f4872fa": {
     "model_module": "@jupyter-widgets/base",
     "model_module_version": "1.2.0",
     "model_name": "LayoutModel",
     "state": {
      "_model_module": "@jupyter-widgets/base",
      "_model_module_version": "1.2.0",
      "_model_name": "LayoutModel",
      "_view_count": null,
      "_view_module": "@jupyter-widgets/base",
      "_view_module_version": "1.2.0",
      "_view_name": "LayoutView",
      "align_content": null,
      "align_items": null,
      "align_self": null,
      "border": null,
      "bottom": null,
      "display": null,
      "flex": null,
      "flex_flow": null,
      "grid_area": null,
      "grid_auto_columns": null,
      "grid_auto_flow": null,
      "grid_auto_rows": null,
      "grid_column": null,
      "grid_gap": null,
      "grid_row": null,
      "grid_template_areas": null,
      "grid_template_columns": null,
      "grid_template_rows": null,
      "height": null,
      "justify_content": null,
      "justify_items": null,
      "left": null,
      "margin": null,
      "max_height": null,
      "max_width": null,
      "min_height": null,
      "min_width": null,
      "object_fit": null,
      "object_position": null,
      "order": null,
      "overflow": null,
      "overflow_x": null,
      "overflow_y": null,
      "padding": null,
      "right": null,
      "top": null,
      "visibility": null,
      "width": null
     }
    },
    "bf01f79b562d4d46a90fa9568b02b78b": {
     "model_module": "@jupyter-widgets/controls",
     "model_module_version": "1.5.0",
     "model_name": "HTMLModel",
     "state": {
      "_dom_classes": [],
      "_model_module": "@jupyter-widgets/controls",
      "_model_module_version": "1.5.0",
      "_model_name": "HTMLModel",
      "_view_count": null,
      "_view_module": "@jupyter-widgets/controls",
      "_view_module_version": "1.5.0",
      "_view_name": "HTMLView",
      "description": "",
      "description_tooltip": null,
      "layout": "IPY_MODEL_ac5b5b04ce9b4e60ba8b3155fab17c67",
      "placeholder": "​",
      "style": "IPY_MODEL_f9565201d9a84f17b095cde60bf5867b",
      "value": "Downloading: 100%"
     }
    },
    "c3b4a6f0d1364c6cb17e6cda36444f9f": {
     "model_module": "@jupyter-widgets/base",
     "model_module_version": "1.2.0",
     "model_name": "LayoutModel",
     "state": {
      "_model_module": "@jupyter-widgets/base",
      "_model_module_version": "1.2.0",
      "_model_name": "LayoutModel",
      "_view_count": null,
      "_view_module": "@jupyter-widgets/base",
      "_view_module_version": "1.2.0",
      "_view_name": "LayoutView",
      "align_content": null,
      "align_items": null,
      "align_self": null,
      "border": null,
      "bottom": null,
      "display": null,
      "flex": null,
      "flex_flow": null,
      "grid_area": null,
      "grid_auto_columns": null,
      "grid_auto_flow": null,
      "grid_auto_rows": null,
      "grid_column": null,
      "grid_gap": null,
      "grid_row": null,
      "grid_template_areas": null,
      "grid_template_columns": null,
      "grid_template_rows": null,
      "height": null,
      "justify_content": null,
      "justify_items": null,
      "left": null,
      "margin": null,
      "max_height": null,
      "max_width": null,
      "min_height": null,
      "min_width": null,
      "object_fit": null,
      "object_position": null,
      "order": null,
      "overflow": null,
      "overflow_x": null,
      "overflow_y": null,
      "padding": null,
      "right": null,
      "top": null,
      "visibility": null,
      "width": null
     }
    },
    "c72e27928b724a8696ac8ffe40b2ac5e": {
     "model_module": "@jupyter-widgets/controls",
     "model_module_version": "1.5.0",
     "model_name": "ProgressStyleModel",
     "state": {
      "_model_module": "@jupyter-widgets/controls",
      "_model_module_version": "1.5.0",
      "_model_name": "ProgressStyleModel",
      "_view_count": null,
      "_view_module": "@jupyter-widgets/base",
      "_view_module_version": "1.2.0",
      "_view_name": "StyleView",
      "bar_color": null,
      "description_width": ""
     }
    },
    "c83805df8b3443d58283bbe67860d488": {
     "model_module": "@jupyter-widgets/base",
     "model_module_version": "1.2.0",
     "model_name": "LayoutModel",
     "state": {
      "_model_module": "@jupyter-widgets/base",
      "_model_module_version": "1.2.0",
      "_model_name": "LayoutModel",
      "_view_count": null,
      "_view_module": "@jupyter-widgets/base",
      "_view_module_version": "1.2.0",
      "_view_name": "LayoutView",
      "align_content": null,
      "align_items": null,
      "align_self": null,
      "border": null,
      "bottom": null,
      "display": null,
      "flex": null,
      "flex_flow": null,
      "grid_area": null,
      "grid_auto_columns": null,
      "grid_auto_flow": null,
      "grid_auto_rows": null,
      "grid_column": null,
      "grid_gap": null,
      "grid_row": null,
      "grid_template_areas": null,
      "grid_template_columns": null,
      "grid_template_rows": null,
      "height": null,
      "justify_content": null,
      "justify_items": null,
      "left": null,
      "margin": null,
      "max_height": null,
      "max_width": null,
      "min_height": null,
      "min_width": null,
      "object_fit": null,
      "object_position": null,
      "order": null,
      "overflow": null,
      "overflow_x": null,
      "overflow_y": null,
      "padding": null,
      "right": null,
      "top": null,
      "visibility": null,
      "width": null
     }
    },
    "d7ecd91aa85444c1a23a4401d1c88044": {
     "model_module": "@jupyter-widgets/controls",
     "model_module_version": "1.5.0",
     "model_name": "HTMLModel",
     "state": {
      "_dom_classes": [],
      "_model_module": "@jupyter-widgets/controls",
      "_model_module_version": "1.5.0",
      "_model_name": "HTMLModel",
      "_view_count": null,
      "_view_module": "@jupyter-widgets/controls",
      "_view_module_version": "1.5.0",
      "_view_name": "HTMLView",
      "description": "",
      "description_tooltip": null,
      "layout": "IPY_MODEL_6808cdbc20f74285b7d965851c237120",
      "placeholder": "​",
      "style": "IPY_MODEL_ac699252b9654dc790c40f44e1efbf03",
      "value": " 462/462 [00:00&lt;00:00, 11.6kB/s]"
     }
    },
    "df35f01c88484b05996853601fdf1364": {
     "model_module": "@jupyter-widgets/base",
     "model_module_version": "1.2.0",
     "model_name": "LayoutModel",
     "state": {
      "_model_module": "@jupyter-widgets/base",
      "_model_module_version": "1.2.0",
      "_model_name": "LayoutModel",
      "_view_count": null,
      "_view_module": "@jupyter-widgets/base",
      "_view_module_version": "1.2.0",
      "_view_name": "LayoutView",
      "align_content": null,
      "align_items": null,
      "align_self": null,
      "border": null,
      "bottom": null,
      "display": null,
      "flex": null,
      "flex_flow": null,
      "grid_area": null,
      "grid_auto_columns": null,
      "grid_auto_flow": null,
      "grid_auto_rows": null,
      "grid_column": null,
      "grid_gap": null,
      "grid_row": null,
      "grid_template_areas": null,
      "grid_template_columns": null,
      "grid_template_rows": null,
      "height": null,
      "justify_content": null,
      "justify_items": null,
      "left": null,
      "margin": null,
      "max_height": null,
      "max_width": null,
      "min_height": null,
      "min_width": null,
      "object_fit": null,
      "object_position": null,
      "order": null,
      "overflow": null,
      "overflow_x": null,
      "overflow_y": null,
      "padding": null,
      "right": null,
      "top": null,
      "visibility": null,
      "width": null
     }
    },
    "e854ff78e4644489a9e9ec8148c61950": {
     "model_module": "@jupyter-widgets/base",
     "model_module_version": "1.2.0",
     "model_name": "LayoutModel",
     "state": {
      "_model_module": "@jupyter-widgets/base",
      "_model_module_version": "1.2.0",
      "_model_name": "LayoutModel",
      "_view_count": null,
      "_view_module": "@jupyter-widgets/base",
      "_view_module_version": "1.2.0",
      "_view_name": "LayoutView",
      "align_content": null,
      "align_items": null,
      "align_self": null,
      "border": null,
      "bottom": null,
      "display": null,
      "flex": null,
      "flex_flow": null,
      "grid_area": null,
      "grid_auto_columns": null,
      "grid_auto_flow": null,
      "grid_auto_rows": null,
      "grid_column": null,
      "grid_gap": null,
      "grid_row": null,
      "grid_template_areas": null,
      "grid_template_columns": null,
      "grid_template_rows": null,
      "height": null,
      "justify_content": null,
      "justify_items": null,
      "left": null,
      "margin": null,
      "max_height": null,
      "max_width": null,
      "min_height": null,
      "min_width": null,
      "object_fit": null,
      "object_position": null,
      "order": null,
      "overflow": null,
      "overflow_x": null,
      "overflow_y": null,
      "padding": null,
      "right": null,
      "top": null,
      "visibility": null,
      "width": null
     }
    },
    "f9565201d9a84f17b095cde60bf5867b": {
     "model_module": "@jupyter-widgets/controls",
     "model_module_version": "1.5.0",
     "model_name": "DescriptionStyleModel",
     "state": {
      "_model_module": "@jupyter-widgets/controls",
      "_model_module_version": "1.5.0",
      "_model_name": "DescriptionStyleModel",
      "_view_count": null,
      "_view_module": "@jupyter-widgets/base",
      "_view_module_version": "1.2.0",
      "_view_name": "StyleView",
      "description_width": ""
     }
    }
   }
  }
 },
 "nbformat": 4,
 "nbformat_minor": 5
}
